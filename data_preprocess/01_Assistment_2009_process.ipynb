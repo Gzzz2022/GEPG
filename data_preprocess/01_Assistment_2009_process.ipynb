{
 "cells": [
  {
   "cell_type": "markdown",
   "id": "6135dfcf",
   "metadata": {},
   "source": [
    "# Import"
   ]
  },
  {
   "cell_type": "code",
   "execution_count": 1,
   "id": "f9124341",
   "metadata": {},
   "outputs": [],
   "source": [
    "from sentence_transformers import SentenceTransformer, util\n",
    "import matplotlib.pyplot as plt\n",
    "import seaborn as sns\n",
    "import pandas as pd\n",
    "import numpy as np\n",
    "import json\n",
    "import math"
   ]
  },
  {
   "cell_type": "code",
   "execution_count": 2,
   "id": "35ed537f",
   "metadata": {},
   "outputs": [],
   "source": [
    "assist_url = 'E:/[1]AI/july/assistment1.csv' #[change to your own path]"
   ]
  },
  {
   "cell_type": "markdown",
   "id": "00a36bc5",
   "metadata": {},
   "source": [
    "# 0 Read_data"
   ]
  },
  {
   "cell_type": "code",
   "execution_count": 3,
   "id": "a6bdcd61",
   "metadata": {},
   "outputs": [],
   "source": [
    "ori_data = pd.read_csv(assist_url,low_memory=False)"
   ]
  },
  {
   "cell_type": "code",
   "execution_count": 4,
   "id": "9c371d27",
   "metadata": {},
   "outputs": [
    {
     "data": {
      "text/html": [
       "<div>\n",
       "<style scoped>\n",
       "    .dataframe tbody tr th:only-of-type {\n",
       "        vertical-align: middle;\n",
       "    }\n",
       "\n",
       "    .dataframe tbody tr th {\n",
       "        vertical-align: top;\n",
       "    }\n",
       "\n",
       "    .dataframe thead th {\n",
       "        text-align: right;\n",
       "    }\n",
       "</style>\n",
       "<table border=\"1\" class=\"dataframe\">\n",
       "  <thead>\n",
       "    <tr style=\"text-align: right;\">\n",
       "      <th></th>\n",
       "      <th>order_id</th>\n",
       "      <th>assignment_id</th>\n",
       "      <th>user_id</th>\n",
       "      <th>assistment_id</th>\n",
       "      <th>problem_id</th>\n",
       "      <th>original</th>\n",
       "      <th>correct</th>\n",
       "      <th>attempt_count</th>\n",
       "      <th>ms_first_response</th>\n",
       "      <th>tutor_mode</th>\n",
       "      <th>...</th>\n",
       "      <th>hint_count</th>\n",
       "      <th>hint_total</th>\n",
       "      <th>overlap_time</th>\n",
       "      <th>template_id</th>\n",
       "      <th>answer_id</th>\n",
       "      <th>answer_text</th>\n",
       "      <th>first_action</th>\n",
       "      <th>bottom_hint</th>\n",
       "      <th>opportunity</th>\n",
       "      <th>opportunity_original</th>\n",
       "    </tr>\n",
       "  </thead>\n",
       "  <tbody>\n",
       "    <tr>\n",
       "      <th>0</th>\n",
       "      <td>33022537</td>\n",
       "      <td>277618</td>\n",
       "      <td>64525</td>\n",
       "      <td>33139</td>\n",
       "      <td>51424</td>\n",
       "      <td>1</td>\n",
       "      <td>1</td>\n",
       "      <td>1</td>\n",
       "      <td>32454</td>\n",
       "      <td>tutor</td>\n",
       "      <td>...</td>\n",
       "      <td>0</td>\n",
       "      <td>3</td>\n",
       "      <td>32454</td>\n",
       "      <td>30799</td>\n",
       "      <td>NaN</td>\n",
       "      <td>26</td>\n",
       "      <td>0</td>\n",
       "      <td>NaN</td>\n",
       "      <td>1</td>\n",
       "      <td>1.0</td>\n",
       "    </tr>\n",
       "    <tr>\n",
       "      <th>1</th>\n",
       "      <td>33022709</td>\n",
       "      <td>277618</td>\n",
       "      <td>64525</td>\n",
       "      <td>33150</td>\n",
       "      <td>51435</td>\n",
       "      <td>1</td>\n",
       "      <td>1</td>\n",
       "      <td>1</td>\n",
       "      <td>4922</td>\n",
       "      <td>tutor</td>\n",
       "      <td>...</td>\n",
       "      <td>0</td>\n",
       "      <td>3</td>\n",
       "      <td>4922</td>\n",
       "      <td>30799</td>\n",
       "      <td>NaN</td>\n",
       "      <td>55</td>\n",
       "      <td>0</td>\n",
       "      <td>NaN</td>\n",
       "      <td>2</td>\n",
       "      <td>2.0</td>\n",
       "    </tr>\n",
       "  </tbody>\n",
       "</table>\n",
       "<p>2 rows × 30 columns</p>\n",
       "</div>"
      ],
      "text/plain": [
       "   order_id  assignment_id  user_id  assistment_id  problem_id  original  \\\n",
       "0  33022537         277618    64525          33139       51424         1   \n",
       "1  33022709         277618    64525          33150       51435         1   \n",
       "\n",
       "   correct  attempt_count  ms_first_response tutor_mode  ... hint_count  \\\n",
       "0        1              1              32454      tutor  ...          0   \n",
       "1        1              1               4922      tutor  ...          0   \n",
       "\n",
       "   hint_total  overlap_time  template_id answer_id  answer_text  first_action  \\\n",
       "0           3         32454        30799       NaN           26             0   \n",
       "1           3          4922        30799       NaN           55             0   \n",
       "\n",
       "  bottom_hint  opportunity  opportunity_original  \n",
       "0         NaN            1                   1.0  \n",
       "1         NaN            2                   2.0  \n",
       "\n",
       "[2 rows x 30 columns]"
      ]
     },
     "execution_count": 4,
     "metadata": {},
     "output_type": "execute_result"
    }
   ],
   "source": [
    "#The skill name \"Absolute Value\" corresponds to two IDs, 85 and 163, and one of them needs to be deleted.\n",
    "ori_data['skill_id'].replace(163, 85, inplace=True)\n",
    "ori_data.head(2)\n",
    "#ori_data.shape #:(525534, 30)"
   ]
  },
  {
   "cell_type": "code",
   "execution_count": 5,
   "id": "4c0fe8f0",
   "metadata": {},
   "outputs": [
    {
     "data": {
      "text/plain": [
       "Index(['order_id', 'assignment_id', 'user_id', 'assistment_id', 'problem_id',\n",
       "       'original', 'correct', 'attempt_count', 'ms_first_response',\n",
       "       'tutor_mode', 'answer_type', 'sequence_id', 'student_class_id',\n",
       "       'position', 'type', 'base_sequence_id', 'skill_id', 'skill_name',\n",
       "       'teacher_id', 'school_id', 'hint_count', 'hint_total', 'overlap_time',\n",
       "       'template_id', 'answer_id', 'answer_text', 'first_action',\n",
       "       'bottom_hint', 'opportunity', 'opportunity_original'],\n",
       "      dtype='object')"
      ]
     },
     "execution_count": 5,
     "metadata": {},
     "output_type": "execute_result"
    }
   ],
   "source": [
    "ori_data.columns"
   ]
  },
  {
   "cell_type": "markdown",
   "id": "b14fd4ac",
   "metadata": {},
   "source": [
    "# 1 Filtering, De-duplication and Time Sorting"
   ]
  },
  {
   "cell_type": "code",
   "execution_count": 5,
   "id": "8c244520",
   "metadata": {},
   "outputs": [
    {
     "data": {
      "text/html": [
       "<div>\n",
       "<style scoped>\n",
       "    .dataframe tbody tr th:only-of-type {\n",
       "        vertical-align: middle;\n",
       "    }\n",
       "\n",
       "    .dataframe tbody tr th {\n",
       "        vertical-align: top;\n",
       "    }\n",
       "\n",
       "    .dataframe thead th {\n",
       "        text-align: right;\n",
       "    }\n",
       "</style>\n",
       "<table border=\"1\" class=\"dataframe\">\n",
       "  <thead>\n",
       "    <tr style=\"text-align: right;\">\n",
       "      <th></th>\n",
       "      <th>user_id</th>\n",
       "      <th>problem_id</th>\n",
       "      <th>skill_id</th>\n",
       "      <th>correct</th>\n",
       "      <th>ms_first_response</th>\n",
       "    </tr>\n",
       "  </thead>\n",
       "  <tbody>\n",
       "    <tr>\n",
       "      <th>0</th>\n",
       "      <td>64525</td>\n",
       "      <td>51424</td>\n",
       "      <td>1.0</td>\n",
       "      <td>1</td>\n",
       "      <td>32454</td>\n",
       "    </tr>\n",
       "    <tr>\n",
       "      <th>1</th>\n",
       "      <td>64525</td>\n",
       "      <td>51435</td>\n",
       "      <td>1.0</td>\n",
       "      <td>1</td>\n",
       "      <td>4922</td>\n",
       "    </tr>\n",
       "    <tr>\n",
       "      <th>2</th>\n",
       "      <td>70363</td>\n",
       "      <td>51444</td>\n",
       "      <td>1.0</td>\n",
       "      <td>0</td>\n",
       "      <td>25390</td>\n",
       "    </tr>\n",
       "    <tr>\n",
       "      <th>3</th>\n",
       "      <td>70363</td>\n",
       "      <td>51395</td>\n",
       "      <td>1.0</td>\n",
       "      <td>1</td>\n",
       "      <td>4859</td>\n",
       "    </tr>\n",
       "    <tr>\n",
       "      <th>4</th>\n",
       "      <td>70363</td>\n",
       "      <td>51481</td>\n",
       "      <td>1.0</td>\n",
       "      <td>0</td>\n",
       "      <td>19813</td>\n",
       "    </tr>\n",
       "  </tbody>\n",
       "</table>\n",
       "</div>"
      ],
      "text/plain": [
       "   user_id  problem_id  skill_id  correct  ms_first_response\n",
       "0    64525       51424       1.0        1              32454\n",
       "1    64525       51435       1.0        1               4922\n",
       "2    70363       51444       1.0        0              25390\n",
       "3    70363       51395       1.0        1               4859\n",
       "4    70363       51481       1.0        0              19813"
      ]
     },
     "execution_count": 5,
     "metadata": {},
     "output_type": "execute_result"
    }
   ],
   "source": [
    "# Filtering\n",
    "select_columns = ['user_id','problem_id', 'skill_id', 'correct','ms_first_response']\n",
    "sel_data = ori_data[select_columns]\n",
    "sel_data.head()\n",
    "#sel_data.shape #:(525534, 5)"
   ]
  },
  {
   "cell_type": "code",
   "execution_count": 6,
   "id": "6da382f2",
   "metadata": {},
   "outputs": [
    {
     "data": {
      "text/plain": [
       "(459208, 5)"
      ]
     },
     "execution_count": 6,
     "metadata": {},
     "output_type": "execute_result"
    }
   ],
   "source": [
    "# dropna\n",
    "sel_data_copy = sel_data.copy()\n",
    "sel_data_copy.dropna(inplace=True)\n",
    "sel_data = sel_data_copy \n",
    "sel_data.shape #shape: (459208, 5)"
   ]
  },
  {
   "cell_type": "code",
   "execution_count": 7,
   "id": "9e91f93c",
   "metadata": {},
   "outputs": [],
   "source": [
    "# drop_duplicates\n",
    "sel_data = sel_data.drop_duplicates().reset_index(drop=True)\n",
    "# reset_index\n",
    "sel_data = sel_data.reset_index(drop=True)\n",
    "#sel_data.shape #：(337998, 5)"
   ]
  },
  {
   "cell_type": "code",
   "execution_count": 8,
   "id": "17219fe9",
   "metadata": {
    "scrolled": true
   },
   "outputs": [
    {
     "data": {
      "text/html": [
       "<div>\n",
       "<style scoped>\n",
       "    .dataframe tbody tr th:only-of-type {\n",
       "        vertical-align: middle;\n",
       "    }\n",
       "\n",
       "    .dataframe tbody tr th {\n",
       "        vertical-align: top;\n",
       "    }\n",
       "\n",
       "    .dataframe thead th {\n",
       "        text-align: right;\n",
       "    }\n",
       "</style>\n",
       "<table border=\"1\" class=\"dataframe\">\n",
       "  <thead>\n",
       "    <tr style=\"text-align: right;\">\n",
       "      <th></th>\n",
       "      <th>user_id</th>\n",
       "      <th>problem_id</th>\n",
       "      <th>skill_id</th>\n",
       "      <th>correct</th>\n",
       "      <th>ms_first_response</th>\n",
       "    </tr>\n",
       "  </thead>\n",
       "  <tbody>\n",
       "    <tr>\n",
       "      <th>0</th>\n",
       "      <td>14</td>\n",
       "      <td>91127</td>\n",
       "      <td>13.0</td>\n",
       "      <td>0</td>\n",
       "      <td>2212</td>\n",
       "    </tr>\n",
       "    <tr>\n",
       "      <th>1</th>\n",
       "      <td>14</td>\n",
       "      <td>91144</td>\n",
       "      <td>13.0</td>\n",
       "      <td>0</td>\n",
       "      <td>3426</td>\n",
       "    </tr>\n",
       "    <tr>\n",
       "      <th>2</th>\n",
       "      <td>14</td>\n",
       "      <td>93415</td>\n",
       "      <td>2.0</td>\n",
       "      <td>0</td>\n",
       "      <td>8244</td>\n",
       "    </tr>\n",
       "    <tr>\n",
       "      <th>3</th>\n",
       "      <td>14</td>\n",
       "      <td>93415</td>\n",
       "      <td>70.0</td>\n",
       "      <td>0</td>\n",
       "      <td>8244</td>\n",
       "    </tr>\n",
       "    <tr>\n",
       "      <th>4</th>\n",
       "      <td>14</td>\n",
       "      <td>93415</td>\n",
       "      <td>37.0</td>\n",
       "      <td>0</td>\n",
       "      <td>8244</td>\n",
       "    </tr>\n",
       "  </tbody>\n",
       "</table>\n",
       "</div>"
      ],
      "text/plain": [
       "   user_id  problem_id  skill_id  correct  ms_first_response\n",
       "0       14       91127      13.0        0               2212\n",
       "1       14       91144      13.0        0               3426\n",
       "2       14       93415       2.0        0               8244\n",
       "3       14       93415      70.0        0               8244\n",
       "4       14       93415      37.0        0               8244"
      ]
     },
     "execution_count": 8,
     "metadata": {},
     "output_type": "execute_result"
    }
   ],
   "source": [
    "# Group by' user_id' and sort by' ms_first_response' within each group\n",
    "sel_data_sorted = sel_data.groupby('user_id').apply(lambda x: x.sort_values('ms_first_response')).reset_index(drop=True)\n",
    "sel_data_sorted.head() #shape #：(337998, 5)"
   ]
  },
  {
   "cell_type": "markdown",
   "id": "2227300a",
   "metadata": {},
   "source": [
    "# 2.1 Remove students whose answers are less than or equal to 14 times"
   ]
  },
  {
   "cell_type": "code",
   "execution_count": 9,
   "id": "ea0d383d",
   "metadata": {},
   "outputs": [],
   "source": [
    "# all students\n",
    "stu_list = sel_data_sorted['user_id'].value_counts().index.tolist()\n",
    "#len(stu_list) #:4163"
   ]
  },
  {
   "cell_type": "code",
   "execution_count": 10,
   "id": "f61dd90f",
   "metadata": {},
   "outputs": [
    {
     "data": {
      "text/plain": [
       "1535"
      ]
     },
     "execution_count": 10,
     "metadata": {},
     "output_type": "execute_result"
    }
   ],
   "source": [
    "# students who answered less than or equal to 14 times\n",
    "stu_times = sel_data_sorted['user_id'].value_counts()\n",
    "rare_stu = stu_times[stu_times <= 14].index.tolist()\n",
    "len(rare_stu) #:1535"
   ]
  },
  {
   "cell_type": "code",
   "execution_count": 11,
   "id": "7fc5f3ab",
   "metadata": {},
   "outputs": [],
   "source": [
    "# remove students who answered less than or equal to 14 times\n",
    "sel_data_sorted_1 = sel_data_sorted[~sel_data_sorted['user_id'].isin(rare_stu)]\n",
    "sel_data_sorted_1 = sel_data_sorted_1.reset_index(drop=True)\n",
    "#sel_data_sorted_1.shape #：(327320, 5)\n",
    "#学生数量：2628"
   ]
  },
  {
   "cell_type": "markdown",
   "id": "09a0f75e",
   "metadata": {},
   "source": [
    "# 2.2 Remove questions answered less than or equal to 2 times"
   ]
  },
  {
   "cell_type": "code",
   "execution_count": 12,
   "id": "ca29be7e",
   "metadata": {},
   "outputs": [],
   "source": [
    "# all questions\n",
    "exer_list = sel_data_sorted_1['problem_id'].value_counts().index.tolist()\n",
    "#len(exer_list) #:17684"
   ]
  },
  {
   "cell_type": "code",
   "execution_count": 13,
   "id": "a7a15dd0",
   "metadata": {},
   "outputs": [],
   "source": [
    "# questions answered less than or equal to 2 times.\n",
    "exer_times = sel_data_sorted_1['problem_id'].value_counts()\n",
    "rare_exer = exer_times[exer_times <= 2].index.tolist()\n",
    "#len(rare_exer) #:2523"
   ]
  },
  {
   "cell_type": "code",
   "execution_count": 14,
   "id": "12fb848b",
   "metadata": {},
   "outputs": [],
   "source": [
    "# remove them\n",
    "filtered_sel_data_sorted = sel_data_sorted_1[~sel_data_sorted_1['problem_id'].isin(rare_exer)]\n",
    "filtered_sel_data_sorted = filtered_sel_data_sorted.reset_index(drop=True)\n",
    "#filtered_sel_data_sorted.shape #：(323665, 5)"
   ]
  },
  {
   "cell_type": "code",
   "execution_count": 15,
   "id": "12991f07",
   "metadata": {},
   "outputs": [],
   "source": [
    "filtered_sel_data_sorted['skill_id'] = filtered_sel_data_sorted['skill_id'].astype(int)"
   ]
  },
  {
   "cell_type": "code",
   "execution_count": 16,
   "id": "5f0ec79c",
   "metadata": {},
   "outputs": [
    {
     "data": {
      "text/html": [
       "<div>\n",
       "<style scoped>\n",
       "    .dataframe tbody tr th:only-of-type {\n",
       "        vertical-align: middle;\n",
       "    }\n",
       "\n",
       "    .dataframe tbody tr th {\n",
       "        vertical-align: top;\n",
       "    }\n",
       "\n",
       "    .dataframe thead th {\n",
       "        text-align: right;\n",
       "    }\n",
       "</style>\n",
       "<table border=\"1\" class=\"dataframe\">\n",
       "  <thead>\n",
       "    <tr style=\"text-align: right;\">\n",
       "      <th></th>\n",
       "      <th>user_id</th>\n",
       "      <th>problem_id</th>\n",
       "      <th>skill_id</th>\n",
       "      <th>correct</th>\n",
       "      <th>ms_first_response</th>\n",
       "    </tr>\n",
       "  </thead>\n",
       "  <tbody>\n",
       "    <tr>\n",
       "      <th>0</th>\n",
       "      <td>14</td>\n",
       "      <td>91127</td>\n",
       "      <td>13</td>\n",
       "      <td>0</td>\n",
       "      <td>2212</td>\n",
       "    </tr>\n",
       "    <tr>\n",
       "      <th>1</th>\n",
       "      <td>14</td>\n",
       "      <td>91144</td>\n",
       "      <td>13</td>\n",
       "      <td>0</td>\n",
       "      <td>3426</td>\n",
       "    </tr>\n",
       "    <tr>\n",
       "      <th>2</th>\n",
       "      <td>14</td>\n",
       "      <td>93415</td>\n",
       "      <td>2</td>\n",
       "      <td>0</td>\n",
       "      <td>8244</td>\n",
       "    </tr>\n",
       "    <tr>\n",
       "      <th>3</th>\n",
       "      <td>14</td>\n",
       "      <td>93415</td>\n",
       "      <td>70</td>\n",
       "      <td>0</td>\n",
       "      <td>8244</td>\n",
       "    </tr>\n",
       "    <tr>\n",
       "      <th>4</th>\n",
       "      <td>14</td>\n",
       "      <td>93415</td>\n",
       "      <td>37</td>\n",
       "      <td>0</td>\n",
       "      <td>8244</td>\n",
       "    </tr>\n",
       "  </tbody>\n",
       "</table>\n",
       "</div>"
      ],
      "text/plain": [
       "   user_id  problem_id  skill_id  correct  ms_first_response\n",
       "0       14       91127        13        0               2212\n",
       "1       14       91144        13        0               3426\n",
       "2       14       93415         2        0               8244\n",
       "3       14       93415        70        0               8244\n",
       "4       14       93415        37        0               8244"
      ]
     },
     "execution_count": 16,
     "metadata": {},
     "output_type": "execute_result"
    }
   ],
   "source": [
    "filtered_sel_data_sorted.head()"
   ]
  },
  {
   "cell_type": "markdown",
   "id": "e64b35dd",
   "metadata": {},
   "source": [
    "# 3 Mapping students, problems and knowledge points"
   ]
  },
  {
   "cell_type": "code",
   "execution_count": 17,
   "id": "60a6f19e",
   "metadata": {},
   "outputs": [],
   "source": [
    "# Get a list of students, questions and knowledge points.\n",
    "stu_list = filtered_sel_data_sorted['user_id'].value_counts().index.tolist()\n",
    "#len(stu_list)#: 2627\n",
    "problem_list = filtered_sel_data_sorted['problem_id'].value_counts().index.tolist()\n",
    "#len(problem_list)#: 15161\n",
    "kc_list = filtered_sel_data_sorted['skill_id'].value_counts().index.tolist() \n",
    "#len(kc_list)#: 116"
   ]
  },
  {
   "cell_type": "code",
   "execution_count": 18,
   "id": "00c84be2",
   "metadata": {},
   "outputs": [],
   "source": [
    "# initialize dic\n",
    "stu_get_ID = {}\n",
    "plm_get_ID = {}\n",
    "kc_get_ID = {}\n",
    "\n",
    "stu_get_oriID = {}\n",
    "plm_get_oriID = {}\n",
    "kc_get_oriID = {}"
   ]
  },
  {
   "cell_type": "code",
   "execution_count": 19,
   "id": "0221d9ca",
   "metadata": {},
   "outputs": [],
   "source": [
    "# mapping\n",
    "for index,value in enumerate(stu_list):\n",
    "    stu_get_ID[value] = index\n",
    "    stu_get_oriID[index] = value\n",
    "for index,value in enumerate(problem_list):\n",
    "    plm_get_ID[value] = index\n",
    "    plm_get_oriID[index] = value\n",
    "for index,value in enumerate(kc_list):\n",
    "    kc_get_ID[value] = index\n",
    "    kc_get_oriID[index] = value"
   ]
  },
  {
   "cell_type": "code",
   "execution_count": 20,
   "id": "af74bc69",
   "metadata": {},
   "outputs": [],
   "source": [
    "# save\n",
    "with open('ass_stu_get_ID.json', 'w', encoding='utf-8') as f:\n",
    "    json.dump(stu_get_ID, f, ensure_ascii=False, indent=4)\n",
    "with open('ass_plm_get_ID.json', 'w', encoding='utf-8') as f:\n",
    "    json.dump(plm_get_ID, f, ensure_ascii=False, indent=4)\n",
    "with open('ass_kc_get_ID.json', 'w', encoding='utf-8') as f:\n",
    "    json.dump(kc_get_ID, f, ensure_ascii=False, indent=4)"
   ]
  },
  {
   "cell_type": "code",
   "execution_count": 21,
   "id": "873d941c",
   "metadata": {},
   "outputs": [
    {
     "data": {
      "text/html": [
       "<div>\n",
       "<style scoped>\n",
       "    .dataframe tbody tr th:only-of-type {\n",
       "        vertical-align: middle;\n",
       "    }\n",
       "\n",
       "    .dataframe tbody tr th {\n",
       "        vertical-align: top;\n",
       "    }\n",
       "\n",
       "    .dataframe thead th {\n",
       "        text-align: right;\n",
       "    }\n",
       "</style>\n",
       "<table border=\"1\" class=\"dataframe\">\n",
       "  <thead>\n",
       "    <tr style=\"text-align: right;\">\n",
       "      <th></th>\n",
       "      <th>user_id</th>\n",
       "      <th>problem_id</th>\n",
       "      <th>skill_id</th>\n",
       "      <th>correct</th>\n",
       "      <th>ms_first_response</th>\n",
       "    </tr>\n",
       "  </thead>\n",
       "  <tbody>\n",
       "    <tr>\n",
       "      <th>0</th>\n",
       "      <td>14</td>\n",
       "      <td>91127</td>\n",
       "      <td>13</td>\n",
       "      <td>0</td>\n",
       "      <td>2212</td>\n",
       "    </tr>\n",
       "    <tr>\n",
       "      <th>1</th>\n",
       "      <td>14</td>\n",
       "      <td>91144</td>\n",
       "      <td>13</td>\n",
       "      <td>0</td>\n",
       "      <td>3426</td>\n",
       "    </tr>\n",
       "    <tr>\n",
       "      <th>2</th>\n",
       "      <td>14</td>\n",
       "      <td>93415</td>\n",
       "      <td>2</td>\n",
       "      <td>0</td>\n",
       "      <td>8244</td>\n",
       "    </tr>\n",
       "    <tr>\n",
       "      <th>3</th>\n",
       "      <td>14</td>\n",
       "      <td>93415</td>\n",
       "      <td>70</td>\n",
       "      <td>0</td>\n",
       "      <td>8244</td>\n",
       "    </tr>\n",
       "    <tr>\n",
       "      <th>4</th>\n",
       "      <td>14</td>\n",
       "      <td>93415</td>\n",
       "      <td>37</td>\n",
       "      <td>0</td>\n",
       "      <td>8244</td>\n",
       "    </tr>\n",
       "  </tbody>\n",
       "</table>\n",
       "</div>"
      ],
      "text/plain": [
       "   user_id  problem_id  skill_id  correct  ms_first_response\n",
       "0       14       91127        13        0               2212\n",
       "1       14       91144        13        0               3426\n",
       "2       14       93415         2        0               8244\n",
       "3       14       93415        70        0               8244\n",
       "4       14       93415        37        0               8244"
      ]
     },
     "execution_count": 21,
     "metadata": {},
     "output_type": "execute_result"
    }
   ],
   "source": [
    "filtered_sel_data_sorted.head()"
   ]
  },
  {
   "cell_type": "code",
   "execution_count": 22,
   "id": "be553611",
   "metadata": {},
   "outputs": [
    {
     "data": {
      "text/html": [
       "<div>\n",
       "<style scoped>\n",
       "    .dataframe tbody tr th:only-of-type {\n",
       "        vertical-align: middle;\n",
       "    }\n",
       "\n",
       "    .dataframe tbody tr th {\n",
       "        vertical-align: top;\n",
       "    }\n",
       "\n",
       "    .dataframe thead th {\n",
       "        text-align: right;\n",
       "    }\n",
       "</style>\n",
       "<table border=\"1\" class=\"dataframe\">\n",
       "  <thead>\n",
       "    <tr style=\"text-align: right;\">\n",
       "      <th></th>\n",
       "      <th>user_id</th>\n",
       "      <th>problem_id</th>\n",
       "      <th>skill_id</th>\n",
       "      <th>correct</th>\n",
       "      <th>ms_first_response</th>\n",
       "    </tr>\n",
       "  </thead>\n",
       "  <tbody>\n",
       "    <tr>\n",
       "      <th>0</th>\n",
       "      <td>1357</td>\n",
       "      <td>6791</td>\n",
       "      <td>21</td>\n",
       "      <td>0</td>\n",
       "      <td>2212</td>\n",
       "    </tr>\n",
       "    <tr>\n",
       "      <th>1</th>\n",
       "      <td>1357</td>\n",
       "      <td>11418</td>\n",
       "      <td>21</td>\n",
       "      <td>0</td>\n",
       "      <td>3426</td>\n",
       "    </tr>\n",
       "    <tr>\n",
       "      <th>2</th>\n",
       "      <td>1357</td>\n",
       "      <td>738</td>\n",
       "      <td>17</td>\n",
       "      <td>0</td>\n",
       "      <td>8244</td>\n",
       "    </tr>\n",
       "    <tr>\n",
       "      <th>3</th>\n",
       "      <td>1357</td>\n",
       "      <td>738</td>\n",
       "      <td>4</td>\n",
       "      <td>0</td>\n",
       "      <td>8244</td>\n",
       "    </tr>\n",
       "    <tr>\n",
       "      <th>4</th>\n",
       "      <td>1357</td>\n",
       "      <td>738</td>\n",
       "      <td>33</td>\n",
       "      <td>0</td>\n",
       "      <td>8244</td>\n",
       "    </tr>\n",
       "  </tbody>\n",
       "</table>\n",
       "</div>"
      ],
      "text/plain": [
       "   user_id  problem_id  skill_id  correct  ms_first_response\n",
       "0     1357        6791        21        0               2212\n",
       "1     1357       11418        21        0               3426\n",
       "2     1357         738        17        0               8244\n",
       "3     1357         738         4        0               8244\n",
       "4     1357         738        33        0               8244"
      ]
     },
     "execution_count": 22,
     "metadata": {},
     "output_type": "execute_result"
    }
   ],
   "source": [
    "# filtered_sel_data_sorted -> mapping_df\n",
    "# user_id   problem_id   skill_id   correct\n",
    "mapping_df = filtered_sel_data_sorted.copy() \n",
    "mapping_df['user_id'] = filtered_sel_data_sorted['user_id'].map(stu_get_ID)\n",
    "mapping_df['problem_id'] = filtered_sel_data_sorted['problem_id'].map(plm_get_ID)\n",
    "mapping_df['skill_id'] = filtered_sel_data_sorted['skill_id'].map(kc_get_ID)\n",
    "mapping_df.head(5)"
   ]
  },
  {
   "cell_type": "code",
   "execution_count": 23,
   "id": "a6a3115c",
   "metadata": {},
   "outputs": [
    {
     "data": {
      "text/html": [
       "<div>\n",
       "<style scoped>\n",
       "    .dataframe tbody tr th:only-of-type {\n",
       "        vertical-align: middle;\n",
       "    }\n",
       "\n",
       "    .dataframe tbody tr th {\n",
       "        vertical-align: top;\n",
       "    }\n",
       "\n",
       "    .dataframe thead th {\n",
       "        text-align: right;\n",
       "    }\n",
       "</style>\n",
       "<table border=\"1\" class=\"dataframe\">\n",
       "  <thead>\n",
       "    <tr style=\"text-align: right;\">\n",
       "      <th></th>\n",
       "      <th>user_id</th>\n",
       "      <th>problem_id</th>\n",
       "      <th>skill_id</th>\n",
       "      <th>correct</th>\n",
       "      <th>ms_first_response</th>\n",
       "    </tr>\n",
       "  </thead>\n",
       "  <tbody>\n",
       "    <tr>\n",
       "      <th>111562</th>\n",
       "      <td>0</td>\n",
       "      <td>1674</td>\n",
       "      <td>11</td>\n",
       "      <td>0</td>\n",
       "      <td>1141</td>\n",
       "    </tr>\n",
       "    <tr>\n",
       "      <th>111563</th>\n",
       "      <td>0</td>\n",
       "      <td>1674</td>\n",
       "      <td>9</td>\n",
       "      <td>0</td>\n",
       "      <td>1141</td>\n",
       "    </tr>\n",
       "    <tr>\n",
       "      <th>111564</th>\n",
       "      <td>0</td>\n",
       "      <td>712</td>\n",
       "      <td>9</td>\n",
       "      <td>0</td>\n",
       "      <td>1204</td>\n",
       "    </tr>\n",
       "    <tr>\n",
       "      <th>111565</th>\n",
       "      <td>0</td>\n",
       "      <td>712</td>\n",
       "      <td>11</td>\n",
       "      <td>0</td>\n",
       "      <td>1204</td>\n",
       "    </tr>\n",
       "    <tr>\n",
       "      <th>111566</th>\n",
       "      <td>0</td>\n",
       "      <td>8963</td>\n",
       "      <td>18</td>\n",
       "      <td>0</td>\n",
       "      <td>1373</td>\n",
       "    </tr>\n",
       "    <tr>\n",
       "      <th>...</th>\n",
       "      <td>...</td>\n",
       "      <td>...</td>\n",
       "      <td>...</td>\n",
       "      <td>...</td>\n",
       "      <td>...</td>\n",
       "    </tr>\n",
       "    <tr>\n",
       "      <th>112845</th>\n",
       "      <td>0</td>\n",
       "      <td>585</td>\n",
       "      <td>9</td>\n",
       "      <td>0</td>\n",
       "      <td>797109</td>\n",
       "    </tr>\n",
       "    <tr>\n",
       "      <th>112846</th>\n",
       "      <td>0</td>\n",
       "      <td>585</td>\n",
       "      <td>11</td>\n",
       "      <td>0</td>\n",
       "      <td>797109</td>\n",
       "    </tr>\n",
       "    <tr>\n",
       "      <th>112847</th>\n",
       "      <td>0</td>\n",
       "      <td>6298</td>\n",
       "      <td>39</td>\n",
       "      <td>0</td>\n",
       "      <td>857974</td>\n",
       "    </tr>\n",
       "    <tr>\n",
       "      <th>112848</th>\n",
       "      <td>0</td>\n",
       "      <td>17</td>\n",
       "      <td>9</td>\n",
       "      <td>0</td>\n",
       "      <td>1867331</td>\n",
       "    </tr>\n",
       "    <tr>\n",
       "      <th>112849</th>\n",
       "      <td>0</td>\n",
       "      <td>17</td>\n",
       "      <td>11</td>\n",
       "      <td>0</td>\n",
       "      <td>1867331</td>\n",
       "    </tr>\n",
       "  </tbody>\n",
       "</table>\n",
       "<p>1288 rows × 5 columns</p>\n",
       "</div>"
      ],
      "text/plain": [
       "        user_id  problem_id  skill_id  correct  ms_first_response\n",
       "111562        0        1674        11        0               1141\n",
       "111563        0        1674         9        0               1141\n",
       "111564        0         712         9        0               1204\n",
       "111565        0         712        11        0               1204\n",
       "111566        0        8963        18        0               1373\n",
       "...         ...         ...       ...      ...                ...\n",
       "112845        0         585         9        0             797109\n",
       "112846        0         585        11        0             797109\n",
       "112847        0        6298        39        0             857974\n",
       "112848        0          17         9        0            1867331\n",
       "112849        0          17        11        0            1867331\n",
       "\n",
       "[1288 rows x 5 columns]"
      ]
     },
     "execution_count": 23,
     "metadata": {},
     "output_type": "execute_result"
    }
   ],
   "source": [
    "mapping_df.loc[mapping_df['user_id'] == 0]"
   ]
  },
  {
   "cell_type": "markdown",
   "id": "4157a39d",
   "metadata": {},
   "source": [
    "# 4 Generate JSON file"
   ]
  },
  {
   "cell_type": "code",
   "execution_count": 24,
   "id": "e2e4c139",
   "metadata": {},
   "outputs": [],
   "source": [
    "# user_id   problem_id   skill_id   correct   ms_first_response"
   ]
  },
  {
   "cell_type": "code",
   "execution_count": 25,
   "id": "652d57ef",
   "metadata": {},
   "outputs": [],
   "source": [
    "# Get all the knowledge points corresponding to each question id\n",
    "problem_skill_group_dic = {}\n",
    "problem_list = mapping_df['problem_id'].value_counts().index.tolist()\n",
    "for index, p_id in enumerate(problem_list):\n",
    "    p_float_list = mapping_df.loc[mapping_df['problem_id'] == p_id]['skill_id'].value_counts().index.tolist()\n",
    "    p_int_list = list(map(int, p_float_list))\n",
    "    problem_skill_group_dic[p_id] = p_int_list"
   ]
  },
  {
   "cell_type": "code",
   "execution_count": 26,
   "id": "5516dfab",
   "metadata": {},
   "outputs": [],
   "source": [
    "# save\n",
    "def save_dict_to_txt(dictionary, filename):\n",
    "    with open(filename, 'w', encoding='utf-8') as file:\n",
    "        json.dump(dictionary, file, ensure_ascii=False, indent=4)\n",
    "save_dict_to_txt(problem_skill_group_dic, 'ass_q_kc_dic.txt')"
   ]
  },
  {
   "cell_type": "code",
   "execution_count": 24,
   "id": "d6c3ae0d",
   "metadata": {},
   "outputs": [
    {
     "data": {
      "text/html": [
       "<div>\n",
       "<style scoped>\n",
       "    .dataframe tbody tr th:only-of-type {\n",
       "        vertical-align: middle;\n",
       "    }\n",
       "\n",
       "    .dataframe tbody tr th {\n",
       "        vertical-align: top;\n",
       "    }\n",
       "\n",
       "    .dataframe thead th {\n",
       "        text-align: right;\n",
       "    }\n",
       "</style>\n",
       "<table border=\"1\" class=\"dataframe\">\n",
       "  <thead>\n",
       "    <tr style=\"text-align: right;\">\n",
       "      <th></th>\n",
       "      <th>user_id</th>\n",
       "      <th>problem_id</th>\n",
       "      <th>skill_id</th>\n",
       "      <th>correct</th>\n",
       "      <th>ms_first_response</th>\n",
       "    </tr>\n",
       "  </thead>\n",
       "  <tbody>\n",
       "    <tr>\n",
       "      <th>0</th>\n",
       "      <td>1357</td>\n",
       "      <td>6791</td>\n",
       "      <td>21</td>\n",
       "      <td>0</td>\n",
       "      <td>2212</td>\n",
       "    </tr>\n",
       "    <tr>\n",
       "      <th>1</th>\n",
       "      <td>1357</td>\n",
       "      <td>11418</td>\n",
       "      <td>21</td>\n",
       "      <td>0</td>\n",
       "      <td>3426</td>\n",
       "    </tr>\n",
       "    <tr>\n",
       "      <th>2</th>\n",
       "      <td>1357</td>\n",
       "      <td>738</td>\n",
       "      <td>17,4,33</td>\n",
       "      <td>0</td>\n",
       "      <td>8244</td>\n",
       "    </tr>\n",
       "    <tr>\n",
       "      <th>3</th>\n",
       "      <td>1357</td>\n",
       "      <td>738</td>\n",
       "      <td>17,4,33</td>\n",
       "      <td>0</td>\n",
       "      <td>8244</td>\n",
       "    </tr>\n",
       "    <tr>\n",
       "      <th>4</th>\n",
       "      <td>1357</td>\n",
       "      <td>738</td>\n",
       "      <td>17,4,33</td>\n",
       "      <td>0</td>\n",
       "      <td>8244</td>\n",
       "    </tr>\n",
       "    <tr>\n",
       "      <th>5</th>\n",
       "      <td>1357</td>\n",
       "      <td>8993</td>\n",
       "      <td>21</td>\n",
       "      <td>0</td>\n",
       "      <td>9236</td>\n",
       "    </tr>\n",
       "  </tbody>\n",
       "</table>\n",
       "</div>"
      ],
      "text/plain": [
       "   user_id  problem_id skill_id  correct  ms_first_response\n",
       "0     1357        6791       21        0               2212\n",
       "1     1357       11418       21        0               3426\n",
       "2     1357         738  17,4,33        0               8244\n",
       "3     1357         738  17,4,33        0               8244\n",
       "4     1357         738  17,4,33        0               8244\n",
       "5     1357        8993       21        0               9236"
      ]
     },
     "execution_count": 24,
     "metadata": {},
     "output_type": "execute_result"
    }
   ],
   "source": [
    "# Complete all the knowledge points corresponding to each question.\n",
    "res_df = mapping_df.copy()\n",
    "res_df['skill_id'] = mapping_df['problem_id'].map(problem_skill_group_dic)\n",
    "res_df['skill_id'] = res_df['skill_id'].apply(lambda x: ','.join([str(item) for item in x]) if isinstance(x, list) else x)\n",
    "res_df.head(6)\n",
    "#res_df.shape #:(323665, 5)"
   ]
  },
  {
   "cell_type": "code",
   "execution_count": 25,
   "id": "8459787e",
   "metadata": {},
   "outputs": [
    {
     "data": {
      "text/html": [
       "<div>\n",
       "<style scoped>\n",
       "    .dataframe tbody tr th:only-of-type {\n",
       "        vertical-align: middle;\n",
       "    }\n",
       "\n",
       "    .dataframe tbody tr th {\n",
       "        vertical-align: top;\n",
       "    }\n",
       "\n",
       "    .dataframe thead th {\n",
       "        text-align: right;\n",
       "    }\n",
       "</style>\n",
       "<table border=\"1\" class=\"dataframe\">\n",
       "  <thead>\n",
       "    <tr style=\"text-align: right;\">\n",
       "      <th></th>\n",
       "      <th>user_id</th>\n",
       "      <th>problem_id</th>\n",
       "      <th>skill_id</th>\n",
       "      <th>correct</th>\n",
       "      <th>ms_first_response</th>\n",
       "    </tr>\n",
       "  </thead>\n",
       "  <tbody>\n",
       "    <tr>\n",
       "      <th>111562</th>\n",
       "      <td>0</td>\n",
       "      <td>1674</td>\n",
       "      <td>9,11</td>\n",
       "      <td>0</td>\n",
       "      <td>1141</td>\n",
       "    </tr>\n",
       "    <tr>\n",
       "      <th>111563</th>\n",
       "      <td>0</td>\n",
       "      <td>1674</td>\n",
       "      <td>9,11</td>\n",
       "      <td>0</td>\n",
       "      <td>1141</td>\n",
       "    </tr>\n",
       "    <tr>\n",
       "      <th>111564</th>\n",
       "      <td>0</td>\n",
       "      <td>712</td>\n",
       "      <td>9,11</td>\n",
       "      <td>0</td>\n",
       "      <td>1204</td>\n",
       "    </tr>\n",
       "    <tr>\n",
       "      <th>111565</th>\n",
       "      <td>0</td>\n",
       "      <td>712</td>\n",
       "      <td>9,11</td>\n",
       "      <td>0</td>\n",
       "      <td>1204</td>\n",
       "    </tr>\n",
       "    <tr>\n",
       "      <th>111566</th>\n",
       "      <td>0</td>\n",
       "      <td>8963</td>\n",
       "      <td>18</td>\n",
       "      <td>0</td>\n",
       "      <td>1373</td>\n",
       "    </tr>\n",
       "    <tr>\n",
       "      <th>...</th>\n",
       "      <td>...</td>\n",
       "      <td>...</td>\n",
       "      <td>...</td>\n",
       "      <td>...</td>\n",
       "      <td>...</td>\n",
       "    </tr>\n",
       "    <tr>\n",
       "      <th>112845</th>\n",
       "      <td>0</td>\n",
       "      <td>585</td>\n",
       "      <td>9,11</td>\n",
       "      <td>0</td>\n",
       "      <td>797109</td>\n",
       "    </tr>\n",
       "    <tr>\n",
       "      <th>112846</th>\n",
       "      <td>0</td>\n",
       "      <td>585</td>\n",
       "      <td>9,11</td>\n",
       "      <td>0</td>\n",
       "      <td>797109</td>\n",
       "    </tr>\n",
       "    <tr>\n",
       "      <th>112847</th>\n",
       "      <td>0</td>\n",
       "      <td>6298</td>\n",
       "      <td>39</td>\n",
       "      <td>0</td>\n",
       "      <td>857974</td>\n",
       "    </tr>\n",
       "    <tr>\n",
       "      <th>112848</th>\n",
       "      <td>0</td>\n",
       "      <td>17</td>\n",
       "      <td>11,9</td>\n",
       "      <td>0</td>\n",
       "      <td>1867331</td>\n",
       "    </tr>\n",
       "    <tr>\n",
       "      <th>112849</th>\n",
       "      <td>0</td>\n",
       "      <td>17</td>\n",
       "      <td>11,9</td>\n",
       "      <td>0</td>\n",
       "      <td>1867331</td>\n",
       "    </tr>\n",
       "  </tbody>\n",
       "</table>\n",
       "<p>1288 rows × 5 columns</p>\n",
       "</div>"
      ],
      "text/plain": [
       "        user_id  problem_id skill_id  correct  ms_first_response\n",
       "111562        0        1674     9,11        0               1141\n",
       "111563        0        1674     9,11        0               1141\n",
       "111564        0         712     9,11        0               1204\n",
       "111565        0         712     9,11        0               1204\n",
       "111566        0        8963       18        0               1373\n",
       "...         ...         ...      ...      ...                ...\n",
       "112845        0         585     9,11        0             797109\n",
       "112846        0         585     9,11        0             797109\n",
       "112847        0        6298       39        0             857974\n",
       "112848        0          17     11,9        0            1867331\n",
       "112849        0          17     11,9        0            1867331\n",
       "\n",
       "[1288 rows x 5 columns]"
      ]
     },
     "execution_count": 25,
     "metadata": {},
     "output_type": "execute_result"
    }
   ],
   "source": [
    "# drop defore\n",
    "res_df.loc[res_df.user_id == 0]"
   ]
  },
  {
   "cell_type": "code",
   "execution_count": 26,
   "id": "da6b11c7",
   "metadata": {},
   "outputs": [],
   "source": [
    "# Delete the redundant answer records split by knowledge points.\n",
    "res_df = res_df.drop_duplicates().reset_index(drop=True)\n",
    "#res_df.shape #：(269663, 5)"
   ]
  },
  {
   "cell_type": "code",
   "execution_count": 27,
   "id": "8809b258",
   "metadata": {},
   "outputs": [
    {
     "data": {
      "text/html": [
       "<div>\n",
       "<style scoped>\n",
       "    .dataframe tbody tr th:only-of-type {\n",
       "        vertical-align: middle;\n",
       "    }\n",
       "\n",
       "    .dataframe tbody tr th {\n",
       "        vertical-align: top;\n",
       "    }\n",
       "\n",
       "    .dataframe thead th {\n",
       "        text-align: right;\n",
       "    }\n",
       "</style>\n",
       "<table border=\"1\" class=\"dataframe\">\n",
       "  <thead>\n",
       "    <tr style=\"text-align: right;\">\n",
       "      <th></th>\n",
       "      <th>user_id</th>\n",
       "      <th>problem_id</th>\n",
       "      <th>skill_id</th>\n",
       "      <th>correct</th>\n",
       "      <th>ms_first_response</th>\n",
       "    </tr>\n",
       "  </thead>\n",
       "  <tbody>\n",
       "    <tr>\n",
       "      <th>91068</th>\n",
       "      <td>0</td>\n",
       "      <td>1674</td>\n",
       "      <td>9,11</td>\n",
       "      <td>0</td>\n",
       "      <td>1141</td>\n",
       "    </tr>\n",
       "    <tr>\n",
       "      <th>91069</th>\n",
       "      <td>0</td>\n",
       "      <td>712</td>\n",
       "      <td>9,11</td>\n",
       "      <td>0</td>\n",
       "      <td>1204</td>\n",
       "    </tr>\n",
       "    <tr>\n",
       "      <th>91070</th>\n",
       "      <td>0</td>\n",
       "      <td>8963</td>\n",
       "      <td>18</td>\n",
       "      <td>0</td>\n",
       "      <td>1373</td>\n",
       "    </tr>\n",
       "    <tr>\n",
       "      <th>91071</th>\n",
       "      <td>0</td>\n",
       "      <td>1636</td>\n",
       "      <td>9,11</td>\n",
       "      <td>0</td>\n",
       "      <td>1375</td>\n",
       "    </tr>\n",
       "    <tr>\n",
       "      <th>91072</th>\n",
       "      <td>0</td>\n",
       "      <td>9473</td>\n",
       "      <td>37</td>\n",
       "      <td>0</td>\n",
       "      <td>1420</td>\n",
       "    </tr>\n",
       "    <tr>\n",
       "      <th>...</th>\n",
       "      <td>...</td>\n",
       "      <td>...</td>\n",
       "      <td>...</td>\n",
       "      <td>...</td>\n",
       "      <td>...</td>\n",
       "    </tr>\n",
       "    <tr>\n",
       "      <th>92117</th>\n",
       "      <td>0</td>\n",
       "      <td>276</td>\n",
       "      <td>10</td>\n",
       "      <td>1</td>\n",
       "      <td>756796</td>\n",
       "    </tr>\n",
       "    <tr>\n",
       "      <th>92118</th>\n",
       "      <td>0</td>\n",
       "      <td>3491</td>\n",
       "      <td>39</td>\n",
       "      <td>0</td>\n",
       "      <td>794504</td>\n",
       "    </tr>\n",
       "    <tr>\n",
       "      <th>92119</th>\n",
       "      <td>0</td>\n",
       "      <td>585</td>\n",
       "      <td>9,11</td>\n",
       "      <td>0</td>\n",
       "      <td>797109</td>\n",
       "    </tr>\n",
       "    <tr>\n",
       "      <th>92120</th>\n",
       "      <td>0</td>\n",
       "      <td>6298</td>\n",
       "      <td>39</td>\n",
       "      <td>0</td>\n",
       "      <td>857974</td>\n",
       "    </tr>\n",
       "    <tr>\n",
       "      <th>92121</th>\n",
       "      <td>0</td>\n",
       "      <td>17</td>\n",
       "      <td>11,9</td>\n",
       "      <td>0</td>\n",
       "      <td>1867331</td>\n",
       "    </tr>\n",
       "  </tbody>\n",
       "</table>\n",
       "<p>1054 rows × 5 columns</p>\n",
       "</div>"
      ],
      "text/plain": [
       "       user_id  problem_id skill_id  correct  ms_first_response\n",
       "91068        0        1674     9,11        0               1141\n",
       "91069        0         712     9,11        0               1204\n",
       "91070        0        8963       18        0               1373\n",
       "91071        0        1636     9,11        0               1375\n",
       "91072        0        9473       37        0               1420\n",
       "...        ...         ...      ...      ...                ...\n",
       "92117        0         276       10        1             756796\n",
       "92118        0        3491       39        0             794504\n",
       "92119        0         585     9,11        0             797109\n",
       "92120        0        6298       39        0             857974\n",
       "92121        0          17     11,9        0            1867331\n",
       "\n",
       "[1054 rows x 5 columns]"
      ]
     },
     "execution_count": 27,
     "metadata": {},
     "output_type": "execute_result"
    }
   ],
   "source": [
    "# drop\n",
    "res_df.loc[res_df.user_id == 0]"
   ]
  },
  {
   "cell_type": "code",
   "execution_count": 29,
   "id": "39c7edc7",
   "metadata": {},
   "outputs": [],
   "source": [
    "# Generate JSON file\n",
    "initial_json_list = []\n",
    "Response_records_all_students = []\n",
    "\n",
    "for stu_id in stu_get_oriID:\n",
    "    df_1 = res_df.loc[res_df['user_id'] == stu_id]\n",
    "    logs_list = []\n",
    "    logs_num = len(df_1);\n",
    "    for index, row in df_1.iterrows():\n",
    "        p_id = row['problem_id']\n",
    "        p_code_str = row['skill_id'].split(',')\n",
    "        p_code = [int(item) for item in p_code_str]\n",
    "        if len(p_code) >= 1:\n",
    "            logs_item = {\"exer_id\": p_id, \"score\": row['correct'], \"knowledge_code\": p_code}\n",
    "            logs_list.append(logs_item)\n",
    "    initial_json_item = {\n",
    "        \"stu_id\": stu_id,\n",
    "        \"log_num\": len(logs_list),\n",
    "        \"logs\":logs_list\n",
    "    }\n",
    "    Response_records_all_students.append(len(logs_list))\n",
    "    initial_json_list.append(initial_json_item)"
   ]
  },
  {
   "cell_type": "code",
   "execution_count": 30,
   "id": "ec9cd4bb",
   "metadata": {},
   "outputs": [
    {
     "name": "stdout",
     "output_type": "stream",
     "text": [
      "Response_records: 269663\n",
      "Response_records_per_students: 102.65055196041112\n"
     ]
    }
   ],
   "source": [
    "# Overview of student records\n",
    "Response_records = sum(Response_records_all_students)\n",
    "Response_records_per_students = Response_records / len(Response_records_all_students)\n",
    "print(\"Response_records:\", Response_records)\n",
    "print(\"Response_records_per_students:\", Response_records_per_students)"
   ]
  },
  {
   "cell_type": "code",
   "execution_count": 31,
   "id": "1ae311e7",
   "metadata": {},
   "outputs": [],
   "source": [
    "# Save JSON file \n",
    "def convert_int64_to_int(obj):\n",
    "    if isinstance(obj, np.int64):\n",
    "        return int(obj)\n",
    "    raise TypeError\n",
    "initial_json = json.dumps(initial_json_list, default=convert_int64_to_int, ensure_ascii=False, indent=4, separators=(',', ': '))\n",
    "filename = 'C:/Users/Lenovo/Desktop/Assist09_s15_p2_logs.json' #[change to your own path]\n",
    "with open(filename, 'w', encoding='utf-8') as file:\n",
    "    file.write(initial_json)"
   ]
  },
  {
   "cell_type": "markdown",
   "id": "f733214d",
   "metadata": {},
   "source": [
    "# 5 Generate knowledge graph"
   ]
  },
  {
   "cell_type": "markdown",
   "id": "ed8555c1",
   "metadata": {},
   "source": [
    "## 5-1 Generating dictionary: skill_id -> skill_name"
   ]
  },
  {
   "cell_type": "code",
   "execution_count": 24,
   "id": "41eeb590",
   "metadata": {},
   "outputs": [],
   "source": [
    "# stu_get_ID\n",
    "# plm_get_ID\n",
    "# kc_get_ID\n",
    "\n",
    "# stu_get_oriID\n",
    "# plm_get_oriID\n",
    "# kc_get_oriID"
   ]
  },
  {
   "cell_type": "code",
   "execution_count": 25,
   "id": "eb1a41f6",
   "metadata": {},
   "outputs": [],
   "source": [
    "# user_id   problem_id   skill_id   correct   ms_first_response"
   ]
  },
  {
   "cell_type": "code",
   "execution_count": 26,
   "id": "426b5af2",
   "metadata": {
    "scrolled": true
   },
   "outputs": [
    {
     "data": {
      "text/html": [
       "<div>\n",
       "<style scoped>\n",
       "    .dataframe tbody tr th:only-of-type {\n",
       "        vertical-align: middle;\n",
       "    }\n",
       "\n",
       "    .dataframe tbody tr th {\n",
       "        vertical-align: top;\n",
       "    }\n",
       "\n",
       "    .dataframe thead th {\n",
       "        text-align: right;\n",
       "    }\n",
       "</style>\n",
       "<table border=\"1\" class=\"dataframe\">\n",
       "  <thead>\n",
       "    <tr style=\"text-align: right;\">\n",
       "      <th></th>\n",
       "      <th>skill_id</th>\n",
       "      <th>skill_name</th>\n",
       "    </tr>\n",
       "  </thead>\n",
       "  <tbody>\n",
       "    <tr>\n",
       "      <th>0</th>\n",
       "      <td>1.0</td>\n",
       "      <td>Box and Whisker</td>\n",
       "    </tr>\n",
       "    <tr>\n",
       "      <th>1</th>\n",
       "      <td>2.0</td>\n",
       "      <td>Circle Graph</td>\n",
       "    </tr>\n",
       "    <tr>\n",
       "      <th>2</th>\n",
       "      <td>4.0</td>\n",
       "      <td>Histogram as Table or Graph</td>\n",
       "    </tr>\n",
       "    <tr>\n",
       "      <th>3</th>\n",
       "      <td>5.0</td>\n",
       "      <td>Number Line</td>\n",
       "    </tr>\n",
       "    <tr>\n",
       "      <th>4</th>\n",
       "      <td>8.0</td>\n",
       "      <td>Scatter Plot</td>\n",
       "    </tr>\n",
       "  </tbody>\n",
       "</table>\n",
       "</div>"
      ],
      "text/plain": [
       "   skill_id                   skill_name\n",
       "0       1.0              Box and Whisker\n",
       "1       2.0                 Circle Graph\n",
       "2       4.0  Histogram as Table or Graph\n",
       "3       5.0                  Number Line\n",
       "4       8.0                 Scatter Plot"
      ]
     },
     "execution_count": 26,
     "metadata": {},
     "output_type": "execute_result"
    }
   ],
   "source": [
    "ori_skid_skname_df = ori_data[['skill_id','skill_name']]\n",
    "ori_skid_skname_df = ori_skid_skname_df.drop_duplicates().reset_index(drop=True)\n",
    "ori_skid_skname_df.dropna(subset=['skill_id'], inplace=True)\n",
    "ori_skid_skname_df.head()\n",
    "#ori_skid_skname_df.shape  #:(122, 2))"
   ]
  },
  {
   "cell_type": "code",
   "execution_count": 27,
   "id": "3aa20ec4",
   "metadata": {},
   "outputs": [],
   "source": [
    "lost_name_skid = ori_skid_skname_df[ori_skid_skname_df.isnull().any(axis = 1) == True]['skill_id'].tolist()\n",
    "lost_map = {}\n",
    "for index, value in enumerate(lost_name_skid):\n",
    "    if math.isnan(value) == False:\n",
    "        lost_map[value] = 'unknown_skill_' + str(index)"
   ]
  },
  {
   "cell_type": "code",
   "execution_count": 28,
   "id": "a81e6c76",
   "metadata": {},
   "outputs": [],
   "source": [
    "oriID_NAME_dic = {}\n",
    "for index, row in ori_skid_skname_df.iterrows(): \n",
    "    oriID_NAME_dic[row['skill_id']] = str(row['skill_name'])\n",
    "    \n",
    "for key, value in lost_map.items():\n",
    "    oriID_NAME_dic[key] = value\n",
    "#oriID_NAME_dic"
   ]
  },
  {
   "cell_type": "code",
   "execution_count": 29,
   "id": "5b905027",
   "metadata": {},
   "outputs": [],
   "source": [
    "kc_get_NAME = {}\n",
    "for key, value in kc_get_oriID.items():\n",
    "    kc_get_NAME[key] = oriID_NAME_dic[value]\n",
    "#kc_get_NAME"
   ]
  },
  {
   "cell_type": "markdown",
   "id": "d2ed40d3",
   "metadata": {},
   "source": [
    "## 5-2 SentenceTransformer -> semantic similarity"
   ]
  },
  {
   "cell_type": "code",
   "execution_count": 30,
   "id": "49516881",
   "metadata": {},
   "outputs": [],
   "source": [
    "model = SentenceTransformer('E:/[model]big_model/all-MiniLM-L6-v2') #[need download model and change to your own path]"
   ]
  },
  {
   "cell_type": "code",
   "execution_count": 31,
   "id": "e514d6ac",
   "metadata": {},
   "outputs": [],
   "source": [
    "# kcid-kc_tensor\n",
    "KCID_tensor_dic = {}\n",
    "for kcid in kc_get_NAME:\n",
    "    if kc_get_NAME[kcid] != \"nan\":\n",
    "        embedding = model.encode(kc_get_NAME[kcid], convert_to_tensor=True)\n",
    "        KCID_tensor_dic[kcid] = embedding"
   ]
  },
  {
   "cell_type": "code",
   "execution_count": 32,
   "id": "de4e7cbb",
   "metadata": {},
   "outputs": [],
   "source": [
    "# Similarity matrix\n",
    "mx_size = len(kc_get_NAME)\n",
    "s_matrix = np.zeros((mx_size, mx_size))\n",
    "\n",
    "for kcid1 in KCID_tensor_dic:\n",
    "    t1 = KCID_tensor_dic[kcid1]\n",
    "    for kcid2 in KCID_tensor_dic:\n",
    "        if(kcid1 == kcid2):\n",
    "            s_matrix[kcid1][kcid2] = 0\n",
    "            continue\n",
    "        t2 = KCID_tensor_dic[kcid2]\n",
    "        s_matrix[kcid1][kcid2] = util.pytorch_cos_sim(t1, t2)"
   ]
  },
  {
   "cell_type": "code",
   "execution_count": 33,
   "id": "4c9af30a",
   "metadata": {},
   "outputs": [
    {
     "data": {
      "image/png": "[encoded data removed]",
      "text/plain": [
       "<Figure size 900x600 with 2 Axes>"
      ]
     },
     "metadata": {},
     "output_type": "display_data"
    }
   ],
   "source": [
    "# Heat map analysis\n",
    "plt.figure(dpi=150, figsize=(6, 4))\n",
    "sns.heatmap(\n",
    "    data=s_matrix,\n",
    "    cmap=sns.diverging_palette(255, 5, as_cmap=True),\n",
    ")\n",
    "plt.savefig('skill_heatmap_before.png')"
   ]
  },
  {
   "cell_type": "code",
   "execution_count": 34,
   "id": "6e5bc622",
   "metadata": {},
   "outputs": [
    {
     "data": {
      "text/plain": [
       "1604"
      ]
     },
     "execution_count": 34,
     "metadata": {},
     "output_type": "execute_result"
    }
   ],
   "source": [
    "# Generating similarity binary group\n",
    "s_triple_list = []\n",
    "for i in range(mx_size):\n",
    "    for j in range(mx_size):\n",
    "        if s_matrix[i][j] > 0.4:\n",
    "            triple_item = [i,j]\n",
    "            s_triple_list.append(triple_item)\n",
    "            triple_item = [j,i]\n",
    "            s_triple_list.append(triple_item)\n",
    "len(s_triple_list) #:1604"
   ]
  },
  {
   "cell_type": "code",
   "execution_count": 35,
   "id": "1d6baebc",
   "metadata": {},
   "outputs": [],
   "source": [
    "s_triple_df = pd.DataFrame(s_triple_list, columns=['Subject','Object'])"
   ]
  },
  {
   "cell_type": "markdown",
   "id": "6e0f9008",
   "metadata": {},
   "source": [
    "## 5-3 Analysis of Co-occurrence of Knowledge Points"
   ]
  },
  {
   "cell_type": "code",
   "execution_count": 36,
   "id": "7a7e829e",
   "metadata": {},
   "outputs": [
    {
     "data": {
      "text/plain": [
       "2823"
      ]
     },
     "execution_count": 36,
     "metadata": {},
     "output_type": "execute_result"
    }
   ],
   "source": [
    "p_group_list = []\n",
    "for key, value in problem_skill_group_dic.items():\n",
    "    coo_list = value\n",
    "    if len(coo_list) >= 2:\n",
    "        p_group_list.append(coo_list)=\n",
    "len(p_group_list) #:2823"
   ]
  },
  {
   "cell_type": "code",
   "execution_count": 37,
   "id": "d660d87b",
   "metadata": {},
   "outputs": [],
   "source": [
    "# Co-occurrence matrix\n",
    "mx_size = len(kc_get_NAME) #mx_size ： 80\n",
    "\n",
    "m_matrix = np.zeros((mx_size, mx_size))\n",
    "for p_group in p_group_list:\n",
    "    for i in range(0,len(p_group)):\n",
    "        for j in range(i+1,len(p_group)):\n",
    "            m_matrix[p_group[i],p_group[j]] += 1;\n",
    "            m_matrix[p_group[j],p_group[i]] += 1;"
   ]
  },
  {
   "cell_type": "code",
   "execution_count": 38,
   "id": "9acff5db",
   "metadata": {},
   "outputs": [
    {
     "data": {
      "image/png": "[encoded data removed]",
      "text/plain": [
       "<Figure size 900x600 with 2 Axes>"
      ]
     },
     "metadata": {},
     "output_type": "display_data"
    }
   ],
   "source": [
    "# Heat map analysis\n",
    "plt.figure(dpi=150, figsize=(6, 4))\n",
    "sns.heatmap(\n",
    "    data=m_matrix,\n",
    "    cmap=sns.diverging_palette(255, 5, as_cmap=True),\n",
    ")\n",
    "plt.savefig('skill_group_heatmap.png')"
   ]
  },
  {
   "cell_type": "code",
   "execution_count": 65,
   "id": "a5c1741e",
   "metadata": {},
   "outputs": [
    {
     "data": {
      "image/png": "[encoded data removed]",
      "text/plain": [
       "<Figure size 640x480 with 1 Axes>"
      ]
     },
     "metadata": {},
     "output_type": "display_data"
    }
   ],
   "source": [
    "# Histogram analysis\n",
    "freq_list = []\n",
    "for line in m_matrix:\n",
    "    for item in line:\n",
    "        if item > 0:\n",
    "            freq_list.append(item)\n",
    "freq_array = np.array(freq_list)\n",
    "plt.hist(freq_array, bins=11)\n",
    "plt.xlabel('Meanwhile_times')\n",
    "plt.ylabel('Group_nums')\n",
    "plt.title('Histogram of Matrix Elements')\n",
    "plt.savefig('skill_meanwhile_frequency.png')\n",
    "plt.show()"
   ]
  },
  {
   "cell_type": "code",
   "execution_count": 66,
   "id": "7543a720",
   "metadata": {},
   "outputs": [
    {
     "data": {
      "text/plain": [
       "256"
      ]
     },
     "execution_count": 66,
     "metadata": {},
     "output_type": "execute_result"
    }
   ],
   "source": [
    "# Generating binary group\n",
    "m_triple_list = []\n",
    "for i in range(mx_size):\n",
    "    for j in range(mx_size):\n",
    "        if m_matrix[i][j] > 0:\n",
    "            triple_item = [i,j]\n",
    "            m_triple_list.append(triple_item)\n",
    "            triple_item = [j,i]\n",
    "            m_triple_list.append(triple_item)\n",
    "len(m_triple_list) #:256"
   ]
  },
  {
   "cell_type": "code",
   "execution_count": 67,
   "id": "bc479ba9",
   "metadata": {},
   "outputs": [],
   "source": [
    "m_triple_df = pd.DataFrame(m_triple_list, columns=['Subject','Object'])"
   ]
  },
  {
   "cell_type": "markdown",
   "id": "f87a89eb",
   "metadata": {},
   "source": [
    "## 2-4 Knowledge graph file"
   ]
  },
  {
   "cell_type": "code",
   "execution_count": 68,
   "id": "64ca3942",
   "metadata": {},
   "outputs": [],
   "source": [
    "# s_triple_df\n",
    "# m_triple_df\n",
    "# 'Subject','Object'"
   ]
  },
  {
   "cell_type": "code",
   "execution_count": 69,
   "id": "341e1e78",
   "metadata": {},
   "outputs": [
    {
     "data": {
      "text/html": [
       "<div>\n",
       "<style scoped>\n",
       "    .dataframe tbody tr th:only-of-type {\n",
       "        vertical-align: middle;\n",
       "    }\n",
       "\n",
       "    .dataframe tbody tr th {\n",
       "        vertical-align: top;\n",
       "    }\n",
       "\n",
       "    .dataframe thead th {\n",
       "        text-align: right;\n",
       "    }\n",
       "</style>\n",
       "<table border=\"1\" class=\"dataframe\">\n",
       "  <thead>\n",
       "    <tr style=\"text-align: right;\">\n",
       "      <th></th>\n",
       "      <th>Subject</th>\n",
       "      <th>Object</th>\n",
       "    </tr>\n",
       "  </thead>\n",
       "  <tbody>\n",
       "    <tr>\n",
       "      <th>0</th>\n",
       "      <td>0</td>\n",
       "      <td>3</td>\n",
       "    </tr>\n",
       "    <tr>\n",
       "      <th>1</th>\n",
       "      <td>3</td>\n",
       "      <td>0</td>\n",
       "    </tr>\n",
       "    <tr>\n",
       "      <th>2</th>\n",
       "      <td>0</td>\n",
       "      <td>8</td>\n",
       "    </tr>\n",
       "  </tbody>\n",
       "</table>\n",
       "</div>"
      ],
      "text/plain": [
       "   Subject  Object\n",
       "0        0       3\n",
       "1        3       0\n",
       "2        0       8"
      ]
     },
     "execution_count": 69,
     "metadata": {},
     "output_type": "execute_result"
    }
   ],
   "source": [
    "kg_df = pd.concat([s_triple_df, s_triple_df], ignore_index=True)\n",
    "kg_df = kg_df.drop_duplicates()\n",
    "kg_df.head(3)\n",
    "#kg_df.shape #:(802, 2)"
   ]
  },
  {
   "cell_type": "code",
   "execution_count": 71,
   "id": "4c59a72d",
   "metadata": {},
   "outputs": [],
   "source": [
    "# Save\n",
    "kg_df.to_csv('C:/Users/Lenovo/Desktop/Assist09_s15_p2_graph.txt', sep='\\t', index=False, header=False) #[change to your own path]"
   ]
  }
 ],
 "metadata": {
  "kernelspec": {
   "display_name": "Python 3 (ipykernel)",
   "language": "python",
   "name": "python3"
  },
  "language_info": {
   "codemirror_mode": {
    "name": "ipython",
    "version": 3
   },
   "file_extension": ".py",
   "mimetype": "text/x-python",
   "name": "python",
   "nbconvert_exporter": "python",
   "pygments_lexer": "ipython3",
   "version": "3.8.17"
  }
 },
 "nbformat": 4,
 "nbformat_minor": 5
}
