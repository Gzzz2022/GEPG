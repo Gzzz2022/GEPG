{
 "cells": [
  {
   "cell_type": "markdown",
   "id": "58a73efe",
   "metadata": {},
   "source": [
    "# Import"
   ]
  },
  {
   "cell_type": "code",
   "execution_count": 1,
   "id": "8ca3c743",
   "metadata": {},
   "outputs": [],
   "source": [
    "from sentence_transformers import SentenceTransformer, util\n",
    "import matplotlib.pyplot as plt\n",
    "import seaborn as sns\n",
    "import pandas as pd\n",
    "import numpy as np\n",
    "import json\n",
    "import math"
   ]
  },
  {
   "cell_type": "code",
   "execution_count": 2,
   "id": "061851c5",
   "metadata": {},
   "outputs": [],
   "source": [
    "ori_url = 'E:/[1]ASS_Data/static.txt' #[change to your own path]"
   ]
  },
  {
   "cell_type": "markdown",
   "id": "b92368bc",
   "metadata": {},
   "source": [
    "# 0 Read data"
   ]
  },
  {
   "cell_type": "code",
   "execution_count": 3,
   "id": "5722f782",
   "metadata": {},
   "outputs": [
    {
     "data": {
      "text/html": [
       "<div>\n",
       "<style scoped>\n",
       "    .dataframe tbody tr th:only-of-type {\n",
       "        vertical-align: middle;\n",
       "    }\n",
       "\n",
       "    .dataframe tbody tr th {\n",
       "        vertical-align: top;\n",
       "    }\n",
       "\n",
       "    .dataframe thead th {\n",
       "        text-align: right;\n",
       "    }\n",
       "</style>\n",
       "<table border=\"1\" class=\"dataframe\">\n",
       "  <thead>\n",
       "    <tr style=\"text-align: right;\">\n",
       "      <th></th>\n",
       "      <th>Row</th>\n",
       "      <th>Sample Name</th>\n",
       "      <th>Transaction Id</th>\n",
       "      <th>Anon Student Id</th>\n",
       "      <th>Session Id</th>\n",
       "      <th>Time</th>\n",
       "      <th>Time Zone</th>\n",
       "      <th>Duration (sec)</th>\n",
       "      <th>Student Response Type</th>\n",
       "      <th>Student Response Subtype</th>\n",
       "      <th>...</th>\n",
       "      <th>KC (F2011).1</th>\n",
       "      <th>KC Category (F2011).1</th>\n",
       "      <th>KC (F2011).2</th>\n",
       "      <th>KC Category (F2011).2</th>\n",
       "      <th>School</th>\n",
       "      <th>Class</th>\n",
       "      <th>CF (oli:activityGuid)</th>\n",
       "      <th>CF (oli:highStakes)</th>\n",
       "      <th>CF (oli:purpose)</th>\n",
       "      <th>CF (oli:resourceType)</th>\n",
       "    </tr>\n",
       "  </thead>\n",
       "  <tbody>\n",
       "    <tr>\n",
       "      <th>0</th>\n",
       "      <td>1</td>\n",
       "      <td>All Data</td>\n",
       "      <td>2adbe4abefd649d48862d3f62b1abf5e</td>\n",
       "      <td>Stu_00b2b35fd027e7891e8a1a527125dd65</td>\n",
       "      <td>8dd109e680020ca6016f8e64290b5610</td>\n",
       "      <td>2011-09-21 17:26:36</td>\n",
       "      <td>US/Eastern</td>\n",
       "      <td>1</td>\n",
       "      <td>VIEW_PAGE</td>\n",
       "      <td>UI Event</td>\n",
       "      <td>...</td>\n",
       "      <td>NaN</td>\n",
       "      <td>NaN</td>\n",
       "      <td>NaN</td>\n",
       "      <td>NaN</td>\n",
       "      <td>Marion Technical College</td>\n",
       "      <td>MET2010B-01</td>\n",
       "      <td>NaN</td>\n",
       "      <td>NaN</td>\n",
       "      <td>NaN</td>\n",
       "      <td>NaN</td>\n",
       "    </tr>\n",
       "    <tr>\n",
       "      <th>1</th>\n",
       "      <td>2</td>\n",
       "      <td>All Data</td>\n",
       "      <td>4393251e32a6f00502f3f1ef894af8fe</td>\n",
       "      <td>Stu_00b2b35fd027e7891e8a1a527125dd65</td>\n",
       "      <td>8dd109e680020ca6016f8e64290b5610</td>\n",
       "      <td>2011-09-21 17:35:28</td>\n",
       "      <td>US/Eastern</td>\n",
       "      <td>23.13</td>\n",
       "      <td>ATTEMPT</td>\n",
       "      <td>NaN</td>\n",
       "      <td>...</td>\n",
       "      <td>NaN</td>\n",
       "      <td>NaN</td>\n",
       "      <td>NaN</td>\n",
       "      <td>NaN</td>\n",
       "      <td>Marion Technical College</td>\n",
       "      <td>MET2010B-01</td>\n",
       "      <td>NaN</td>\n",
       "      <td>NaN</td>\n",
       "      <td>NaN</td>\n",
       "      <td>NaN</td>\n",
       "    </tr>\n",
       "  </tbody>\n",
       "</table>\n",
       "<p>2 rows × 47 columns</p>\n",
       "</div>"
      ],
      "text/plain": [
       "   Row Sample Name                    Transaction Id  \\\n",
       "0    1    All Data  2adbe4abefd649d48862d3f62b1abf5e   \n",
       "1    2    All Data  4393251e32a6f00502f3f1ef894af8fe   \n",
       "\n",
       "                        Anon Student Id                        Session Id  \\\n",
       "0  Stu_00b2b35fd027e7891e8a1a527125dd65  8dd109e680020ca6016f8e64290b5610   \n",
       "1  Stu_00b2b35fd027e7891e8a1a527125dd65  8dd109e680020ca6016f8e64290b5610   \n",
       "\n",
       "                  Time   Time Zone Duration (sec) Student Response Type  \\\n",
       "0  2011-09-21 17:26:36  US/Eastern              1             VIEW_PAGE   \n",
       "1  2011-09-21 17:35:28  US/Eastern          23.13               ATTEMPT   \n",
       "\n",
       "  Student Response Subtype  ... KC (F2011).1  KC Category (F2011).1  \\\n",
       "0                 UI Event  ...          NaN                    NaN   \n",
       "1                      NaN  ...          NaN                    NaN   \n",
       "\n",
       "  KC (F2011).2 KC Category (F2011).2                    School        Class  \\\n",
       "0          NaN                   NaN  Marion Technical College  MET2010B-01   \n",
       "1          NaN                   NaN  Marion Technical College  MET2010B-01   \n",
       "\n",
       "  CF (oli:activityGuid)  CF (oli:highStakes) CF (oli:purpose)  \\\n",
       "0                   NaN                  NaN              NaN   \n",
       "1                   NaN                  NaN              NaN   \n",
       "\n",
       "  CF (oli:resourceType)  \n",
       "0                   NaN  \n",
       "1                   NaN  \n",
       "\n",
       "[2 rows x 47 columns]"
      ]
     },
     "execution_count": 3,
     "metadata": {},
     "output_type": "execute_result"
    }
   ],
   "source": [
    "ori_data = pd.read_csv(ori_url,sep='\\t',low_memory=False)\n",
    "ori_data.head(2)"
   ]
  },
  {
   "cell_type": "code",
   "execution_count": 4,
   "id": "26a94c12",
   "metadata": {},
   "outputs": [
    {
     "data": {
      "text/plain": [
       "Index(['Row', 'Sample Name', 'Transaction Id', 'Anon Student Id', 'Session Id',\n",
       "       'Time', 'Time Zone', 'Duration (sec)', 'Student Response Type',\n",
       "       'Student Response Subtype', 'Tutor Response Type',\n",
       "       'Tutor Response Subtype', 'Level (Sequence)', 'Level (Unit)',\n",
       "       'Level (Module)', 'Level (Section1)', 'Problem Name', 'Problem View',\n",
       "       'Problem Start Time', 'Step Name', 'Attempt At Step', 'Is Last Attempt',\n",
       "       'Outcome', 'Selection', 'Action', 'Input', 'Input.1', 'Feedback Text',\n",
       "       'Feedback Classification', 'Help Level', 'Total Num Hints',\n",
       "       'KC (Single-KC)', 'KC Category (Single-KC)', 'KC (Unique-step)',\n",
       "       'KC Category (Unique-step)', 'KC (F2011)', 'KC Category (F2011)',\n",
       "       'KC (F2011).1', 'KC Category (F2011).1', 'KC (F2011).2',\n",
       "       'KC Category (F2011).2', 'School', 'Class', 'CF (oli:activityGuid)',\n",
       "       'CF (oli:highStakes)', 'CF (oli:purpose)', 'CF (oli:resourceType)'],\n",
       "      dtype='object')"
      ]
     },
     "execution_count": 4,
     "metadata": {},
     "output_type": "execute_result"
    }
   ],
   "source": [
    "ori_data.columns"
   ]
  },
  {
   "cell_type": "markdown",
   "id": "49743d7d",
   "metadata": {},
   "source": [
    "# 1 Filtering, De-duplication and Time Sorting"
   ]
  },
  {
   "cell_type": "code",
   "execution_count": 5,
   "id": "52efedc4",
   "metadata": {},
   "outputs": [
    {
     "data": {
      "text/html": [
       "<div>\n",
       "<style scoped>\n",
       "    .dataframe tbody tr th:only-of-type {\n",
       "        vertical-align: middle;\n",
       "    }\n",
       "\n",
       "    .dataframe tbody tr th {\n",
       "        vertical-align: top;\n",
       "    }\n",
       "\n",
       "    .dataframe thead th {\n",
       "        text-align: right;\n",
       "    }\n",
       "</style>\n",
       "<table border=\"1\" class=\"dataframe\">\n",
       "  <thead>\n",
       "    <tr style=\"text-align: right;\">\n",
       "      <th></th>\n",
       "      <th>Anon Student Id</th>\n",
       "      <th>Problem Name</th>\n",
       "      <th>KC (F2011)</th>\n",
       "      <th>Outcome</th>\n",
       "      <th>Time</th>\n",
       "    </tr>\n",
       "  </thead>\n",
       "  <tbody>\n",
       "    <tr>\n",
       "      <th>0</th>\n",
       "      <td>Stu_00b2b35fd027e7891e8a1a527125dd65</td>\n",
       "      <td>_m2_assess</td>\n",
       "      <td>NaN</td>\n",
       "      <td>NaN</td>\n",
       "      <td>2011-09-21 17:26:36</td>\n",
       "    </tr>\n",
       "    <tr>\n",
       "      <th>1</th>\n",
       "      <td>Stu_00b2b35fd027e7891e8a1a527125dd65</td>\n",
       "      <td>_m2_assess</td>\n",
       "      <td>identify_interaction</td>\n",
       "      <td>CORRECT</td>\n",
       "      <td>2011-09-21 17:35:28</td>\n",
       "    </tr>\n",
       "    <tr>\n",
       "      <th>2</th>\n",
       "      <td>Stu_00b2b35fd027e7891e8a1a527125dd65</td>\n",
       "      <td>_m2_assess</td>\n",
       "      <td>gravitational_forces</td>\n",
       "      <td>CORRECT</td>\n",
       "      <td>2011-09-21 17:35:28</td>\n",
       "    </tr>\n",
       "    <tr>\n",
       "      <th>3</th>\n",
       "      <td>Stu_00b2b35fd027e7891e8a1a527125dd65</td>\n",
       "      <td>_m2_assess</td>\n",
       "      <td>represent_interaction_spring</td>\n",
       "      <td>INCORRECT</td>\n",
       "      <td>2011-09-21 17:35:28</td>\n",
       "    </tr>\n",
       "    <tr>\n",
       "      <th>4</th>\n",
       "      <td>Stu_00b2b35fd027e7891e8a1a527125dd65</td>\n",
       "      <td>_m2_assess</td>\n",
       "      <td>represent_interaction_cord</td>\n",
       "      <td>CORRECT</td>\n",
       "      <td>2011-09-21 17:35:28</td>\n",
       "    </tr>\n",
       "  </tbody>\n",
       "</table>\n",
       "</div>"
      ],
      "text/plain": [
       "                        Anon Student Id Problem Name  \\\n",
       "0  Stu_00b2b35fd027e7891e8a1a527125dd65   _m2_assess   \n",
       "1  Stu_00b2b35fd027e7891e8a1a527125dd65   _m2_assess   \n",
       "2  Stu_00b2b35fd027e7891e8a1a527125dd65   _m2_assess   \n",
       "3  Stu_00b2b35fd027e7891e8a1a527125dd65   _m2_assess   \n",
       "4  Stu_00b2b35fd027e7891e8a1a527125dd65   _m2_assess   \n",
       "\n",
       "                     KC (F2011)    Outcome                 Time  \n",
       "0                           NaN        NaN  2011-09-21 17:26:36  \n",
       "1          identify_interaction    CORRECT  2011-09-21 17:35:28  \n",
       "2          gravitational_forces    CORRECT  2011-09-21 17:35:28  \n",
       "3  represent_interaction_spring  INCORRECT  2011-09-21 17:35:28  \n",
       "4    represent_interaction_cord    CORRECT  2011-09-21 17:35:28  "
      ]
     },
     "execution_count": 5,
     "metadata": {},
     "output_type": "execute_result"
    }
   ],
   "source": [
    "# Filtering\n",
    "select_columns = [\"Anon Student Id\",\"Problem Name\",\"KC (F2011)\",\"Outcome\",\"Time\"]\n",
    "sel_data = ori_data[select_columns]\n",
    "sel_data.head()\n",
    "#sel_data.shape #:(361092, 5)"
   ]
  },
  {
   "cell_type": "code",
   "execution_count": 6,
   "id": "471d6179",
   "metadata": {},
   "outputs": [],
   "source": [
    "# dropna\n",
    "sel_data_copy = sel_data.copy()\n",
    "sel_data_copy.dropna(inplace=True)\n",
    "sel_data = sel_data_copy \n",
    "#sel_data.shape #shape: (152592, 5)"
   ]
  },
  {
   "cell_type": "code",
   "execution_count": 7,
   "id": "26772bc5",
   "metadata": {},
   "outputs": [],
   "source": [
    "# drop_duplicates\n",
    "sel_data = sel_data.drop_duplicates().reset_index(drop=True)\n",
    "sel_data = sel_data.reset_index(drop=True)\n",
    "#sel_data.shape #：(118856, 5)"
   ]
  },
  {
   "cell_type": "code",
   "execution_count": 8,
   "id": "579f9dbe",
   "metadata": {},
   "outputs": [
    {
     "data": {
      "text/html": [
       "<div>\n",
       "<style scoped>\n",
       "    .dataframe tbody tr th:only-of-type {\n",
       "        vertical-align: middle;\n",
       "    }\n",
       "\n",
       "    .dataframe tbody tr th {\n",
       "        vertical-align: top;\n",
       "    }\n",
       "\n",
       "    .dataframe thead th {\n",
       "        text-align: right;\n",
       "    }\n",
       "</style>\n",
       "<table border=\"1\" class=\"dataframe\">\n",
       "  <thead>\n",
       "    <tr style=\"text-align: right;\">\n",
       "      <th></th>\n",
       "      <th>Anon Student Id</th>\n",
       "      <th>Problem Name</th>\n",
       "      <th>KC (F2011)</th>\n",
       "      <th>Outcome</th>\n",
       "      <th>Time</th>\n",
       "    </tr>\n",
       "  </thead>\n",
       "  <tbody>\n",
       "    <tr>\n",
       "      <th>0</th>\n",
       "      <td>Stu_00b2b35fd027e7891e8a1a527125dd65</td>\n",
       "      <td>_m2_assess</td>\n",
       "      <td>identify_interaction</td>\n",
       "      <td>CORRECT</td>\n",
       "      <td>2011-09-21 17:35:28</td>\n",
       "    </tr>\n",
       "    <tr>\n",
       "      <th>1</th>\n",
       "      <td>Stu_00b2b35fd027e7891e8a1a527125dd65</td>\n",
       "      <td>_m2_assess</td>\n",
       "      <td>gravitational_forces</td>\n",
       "      <td>CORRECT</td>\n",
       "      <td>2011-09-21 17:35:28</td>\n",
       "    </tr>\n",
       "    <tr>\n",
       "      <th>2</th>\n",
       "      <td>Stu_00b2b35fd027e7891e8a1a527125dd65</td>\n",
       "      <td>_m2_assess</td>\n",
       "      <td>represent_interaction_spring</td>\n",
       "      <td>INCORRECT</td>\n",
       "      <td>2011-09-21 17:35:28</td>\n",
       "    </tr>\n",
       "    <tr>\n",
       "      <th>3</th>\n",
       "      <td>Stu_00b2b35fd027e7891e8a1a527125dd65</td>\n",
       "      <td>_m2_assess</td>\n",
       "      <td>represent_interaction_cord</td>\n",
       "      <td>CORRECT</td>\n",
       "      <td>2011-09-21 17:35:28</td>\n",
       "    </tr>\n",
       "    <tr>\n",
       "      <th>4</th>\n",
       "      <td>Stu_00b2b35fd027e7891e8a1a527125dd65</td>\n",
       "      <td>_m2_assess</td>\n",
       "      <td>simple_step</td>\n",
       "      <td>CORRECT</td>\n",
       "      <td>2011-09-21 17:35:28</td>\n",
       "    </tr>\n",
       "  </tbody>\n",
       "</table>\n",
       "</div>"
      ],
      "text/plain": [
       "                        Anon Student Id Problem Name  \\\n",
       "0  Stu_00b2b35fd027e7891e8a1a527125dd65   _m2_assess   \n",
       "1  Stu_00b2b35fd027e7891e8a1a527125dd65   _m2_assess   \n",
       "2  Stu_00b2b35fd027e7891e8a1a527125dd65   _m2_assess   \n",
       "3  Stu_00b2b35fd027e7891e8a1a527125dd65   _m2_assess   \n",
       "4  Stu_00b2b35fd027e7891e8a1a527125dd65   _m2_assess   \n",
       "\n",
       "                     KC (F2011)    Outcome                Time  \n",
       "0          identify_interaction    CORRECT 2011-09-21 17:35:28  \n",
       "1          gravitational_forces    CORRECT 2011-09-21 17:35:28  \n",
       "2  represent_interaction_spring  INCORRECT 2011-09-21 17:35:28  \n",
       "3    represent_interaction_cord    CORRECT 2011-09-21 17:35:28  \n",
       "4                   simple_step    CORRECT 2011-09-21 17:35:28  "
      ]
     },
     "execution_count": 8,
     "metadata": {},
     "output_type": "execute_result"
    }
   ],
   "source": [
    "# Group by 'Anon Student Id'and sort by' Time' within each group\n",
    "sel_data['Time'] = pd.to_datetime(sel_data['Time'])\n",
    "sel_data_sorted = (\n",
    "    sel_data.sort_values(['Anon Student Id', 'Time'])\n",
    "    .groupby('Anon Student Id')\n",
    "    .apply(lambda x: x.sort_values(by='Time'))\n",
    "    .reset_index(drop=True)\n",
    ")\n",
    "sel_data_sorted.head()"
   ]
  },
  {
   "cell_type": "markdown",
   "id": "d5bf84b4",
   "metadata": {},
   "source": [
    "# 2.1 Remove students whose answers are less than or equal to 14 times"
   ]
  },
  {
   "cell_type": "code",
   "execution_count": 9,
   "id": "d93e7c34",
   "metadata": {},
   "outputs": [
    {
     "data": {
      "text/plain": [
       "331"
      ]
     },
     "execution_count": 9,
     "metadata": {},
     "output_type": "execute_result"
    }
   ],
   "source": [
    "# all students\n",
    "stu_list = sel_data_sorted['Anon Student Id'].value_counts().index.tolist()\n",
    "len(stu_list) #:331"
   ]
  },
  {
   "cell_type": "code",
   "execution_count": 10,
   "id": "f22b0407",
   "metadata": {},
   "outputs": [
    {
     "data": {
      "text/plain": [
       "14"
      ]
     },
     "execution_count": 10,
     "metadata": {},
     "output_type": "execute_result"
    }
   ],
   "source": [
    "# students who answered less than or equal to 14 times\n",
    "stu_times = sel_data_sorted['Anon Student Id'].value_counts()\n",
    "rare_stu = stu_times[stu_times <= 14].index.tolist()\n",
    "len(rare_stu) #:14"
   ]
  },
  {
   "cell_type": "code",
   "execution_count": 11,
   "id": "06e0dcc4",
   "metadata": {},
   "outputs": [
    {
     "data": {
      "text/plain": [
       "(118762, 5)"
      ]
     },
     "execution_count": 11,
     "metadata": {},
     "output_type": "execute_result"
    }
   ],
   "source": [
    "# remove students who answered less than or equal to 14 times\n",
    "sel_data_sorted_1 = sel_data_sorted[~sel_data_sorted['Anon Student Id'].isin(rare_stu)]\n",
    "sel_data_sorted_1 = sel_data_sorted_1.reset_index(drop=True)\n",
    "sel_data_sorted_1.shape #：((118762, 5)"
   ]
  },
  {
   "cell_type": "markdown",
   "id": "61308faa",
   "metadata": {},
   "source": [
    "# 2.2 Remove questions answered less than or equal to 2 times"
   ]
  },
  {
   "cell_type": "code",
   "execution_count": 12,
   "id": "316402be",
   "metadata": {},
   "outputs": [],
   "source": [
    "# all questions\n",
    "exer_list = sel_data_sorted_1['Problem Name'].value_counts().index.tolist()\n",
    "#len(exer_list) #:154"
   ]
  },
  {
   "cell_type": "code",
   "execution_count": 13,
   "id": "11b7b2fe",
   "metadata": {},
   "outputs": [],
   "source": [
    "# questions answered less than or equal to 2 times.\n",
    "exer_times = sel_data_sorted_1['Problem Name'].value_counts()\n",
    "rare_exer = exer_times[exer_times <= 2].index.tolist()\n",
    "#len(rare_exer) #:0"
   ]
  },
  {
   "cell_type": "code",
   "execution_count": 14,
   "id": "f25e8bf1",
   "metadata": {},
   "outputs": [],
   "source": [
    "filtered_sel_data_sorted = sel_data_sorted_1.copy()"
   ]
  },
  {
   "cell_type": "code",
   "execution_count": 15,
   "id": "2900c693",
   "metadata": {},
   "outputs": [
    {
     "data": {
      "text/html": [
       "<div>\n",
       "<style scoped>\n",
       "    .dataframe tbody tr th:only-of-type {\n",
       "        vertical-align: middle;\n",
       "    }\n",
       "\n",
       "    .dataframe tbody tr th {\n",
       "        vertical-align: top;\n",
       "    }\n",
       "\n",
       "    .dataframe thead th {\n",
       "        text-align: right;\n",
       "    }\n",
       "</style>\n",
       "<table border=\"1\" class=\"dataframe\">\n",
       "  <thead>\n",
       "    <tr style=\"text-align: right;\">\n",
       "      <th></th>\n",
       "      <th>Anon Student Id</th>\n",
       "      <th>Problem Name</th>\n",
       "      <th>KC (F2011)</th>\n",
       "      <th>Outcome</th>\n",
       "      <th>Time</th>\n",
       "    </tr>\n",
       "  </thead>\n",
       "  <tbody>\n",
       "    <tr>\n",
       "      <th>0</th>\n",
       "      <td>Stu_00b2b35fd027e7891e8a1a527125dd65</td>\n",
       "      <td>_m2_assess</td>\n",
       "      <td>identify_interaction</td>\n",
       "      <td>CORRECT</td>\n",
       "      <td>2011-09-21 17:35:28</td>\n",
       "    </tr>\n",
       "    <tr>\n",
       "      <th>1</th>\n",
       "      <td>Stu_00b2b35fd027e7891e8a1a527125dd65</td>\n",
       "      <td>_m2_assess</td>\n",
       "      <td>gravitational_forces</td>\n",
       "      <td>CORRECT</td>\n",
       "      <td>2011-09-21 17:35:28</td>\n",
       "    </tr>\n",
       "    <tr>\n",
       "      <th>2</th>\n",
       "      <td>Stu_00b2b35fd027e7891e8a1a527125dd65</td>\n",
       "      <td>_m2_assess</td>\n",
       "      <td>represent_interaction_spring</td>\n",
       "      <td>INCORRECT</td>\n",
       "      <td>2011-09-21 17:35:28</td>\n",
       "    </tr>\n",
       "    <tr>\n",
       "      <th>3</th>\n",
       "      <td>Stu_00b2b35fd027e7891e8a1a527125dd65</td>\n",
       "      <td>_m2_assess</td>\n",
       "      <td>represent_interaction_cord</td>\n",
       "      <td>CORRECT</td>\n",
       "      <td>2011-09-21 17:35:28</td>\n",
       "    </tr>\n",
       "    <tr>\n",
       "      <th>4</th>\n",
       "      <td>Stu_00b2b35fd027e7891e8a1a527125dd65</td>\n",
       "      <td>_m2_assess</td>\n",
       "      <td>simple_step</td>\n",
       "      <td>CORRECT</td>\n",
       "      <td>2011-09-21 17:35:28</td>\n",
       "    </tr>\n",
       "  </tbody>\n",
       "</table>\n",
       "</div>"
      ],
      "text/plain": [
       "                        Anon Student Id Problem Name  \\\n",
       "0  Stu_00b2b35fd027e7891e8a1a527125dd65   _m2_assess   \n",
       "1  Stu_00b2b35fd027e7891e8a1a527125dd65   _m2_assess   \n",
       "2  Stu_00b2b35fd027e7891e8a1a527125dd65   _m2_assess   \n",
       "3  Stu_00b2b35fd027e7891e8a1a527125dd65   _m2_assess   \n",
       "4  Stu_00b2b35fd027e7891e8a1a527125dd65   _m2_assess   \n",
       "\n",
       "                     KC (F2011)    Outcome                Time  \n",
       "0          identify_interaction    CORRECT 2011-09-21 17:35:28  \n",
       "1          gravitational_forces    CORRECT 2011-09-21 17:35:28  \n",
       "2  represent_interaction_spring  INCORRECT 2011-09-21 17:35:28  \n",
       "3    represent_interaction_cord    CORRECT 2011-09-21 17:35:28  \n",
       "4                   simple_step    CORRECT 2011-09-21 17:35:28  "
      ]
     },
     "execution_count": 15,
     "metadata": {},
     "output_type": "execute_result"
    }
   ],
   "source": [
    "filtered_sel_data_sorted.head()"
   ]
  },
  {
   "cell_type": "markdown",
   "id": "4dfdd064",
   "metadata": {},
   "source": [
    "# 3 Mapping students, problems and knowledge points"
   ]
  },
  {
   "cell_type": "code",
   "execution_count": 15,
   "id": "ac8a9c4c",
   "metadata": {},
   "outputs": [],
   "source": [
    "# Get a list of students, questions and knowledge points.\n",
    "stu_list = filtered_sel_data_sorted['Anon Student Id'].value_counts().index.tolist()\n",
    "#len(stu_list)#: 317\n",
    "problem_list = filtered_sel_data_sorted['Problem Name'].value_counts().index.tolist()\n",
    "#len(problem_list)#: 154\n",
    "kc_list = filtered_sel_data_sorted['KC (F2011)'].value_counts().index.tolist() \n",
    "#len(kc_list)#: 80"
   ]
  },
  {
   "cell_type": "code",
   "execution_count": 16,
   "id": "e9d70286",
   "metadata": {},
   "outputs": [],
   "source": [
    "# initialize dic\n",
    "stu_get_ID = {}\n",
    "plm_get_ID = {}\n",
    "kc_get_ID = {}\n",
    "out_get_ID = {'CORRECT':1,'INCORRECT':0,'HINT':1}\n",
    "\n",
    "stu_get_oriID = {}\n",
    "plm_get_NAME = {}\n",
    "kc_get_NAME = {}\n",
    "out_get_NAME = {1:'CORRECT',0:'INCORRECT'}"
   ]
  },
  {
   "cell_type": "code",
   "execution_count": 17,
   "id": "236ac24c",
   "metadata": {},
   "outputs": [],
   "source": [
    "# mapping\n",
    "for index,value in enumerate(stu_list):\n",
    "    stu_get_ID[value] = index\n",
    "    stu_get_oriID[index] = value\n",
    "for index,value in enumerate(problem_list):\n",
    "    plm_get_ID[value] = index\n",
    "    plm_get_NAME[index] = value\n",
    "for index,value in enumerate(kc_list):\n",
    "    kc_get_ID[value] = index\n",
    "    kc_get_NAME[index] = value"
   ]
  },
  {
   "cell_type": "code",
   "execution_count": 18,
   "id": "423e8882",
   "metadata": {},
   "outputs": [],
   "source": [
    "# save\n",
    "with open('stt_stu_get_ID.json', 'w', encoding='utf-8') as f:\n",
    "    json.dump(stu_get_ID, f, ensure_ascii=False, indent=4)\n",
    "with open('stt_plm_get_ID.json', 'w', encoding='utf-8') as f:\n",
    "    json.dump(plm_get_ID, f, ensure_ascii=False, indent=4)\n",
    "with open('stt_kc_get_ID.json', 'w', encoding='utf-8') as f:\n",
    "    json.dump(kc_get_ID, f, ensure_ascii=False, indent=4)"
   ]
  },
  {
   "cell_type": "code",
   "execution_count": 20,
   "id": "217f2a43",
   "metadata": {},
   "outputs": [
    {
     "data": {
      "text/html": [
       "<div>\n",
       "<style scoped>\n",
       "    .dataframe tbody tr th:only-of-type {\n",
       "        vertical-align: middle;\n",
       "    }\n",
       "\n",
       "    .dataframe tbody tr th {\n",
       "        vertical-align: top;\n",
       "    }\n",
       "\n",
       "    .dataframe thead th {\n",
       "        text-align: right;\n",
       "    }\n",
       "</style>\n",
       "<table border=\"1\" class=\"dataframe\">\n",
       "  <thead>\n",
       "    <tr style=\"text-align: right;\">\n",
       "      <th></th>\n",
       "      <th>Anon Student Id</th>\n",
       "      <th>Problem Name</th>\n",
       "      <th>KC (F2011)</th>\n",
       "      <th>Outcome</th>\n",
       "      <th>Time</th>\n",
       "    </tr>\n",
       "  </thead>\n",
       "  <tbody>\n",
       "    <tr>\n",
       "      <th>0</th>\n",
       "      <td>213</td>\n",
       "      <td>16</td>\n",
       "      <td>7</td>\n",
       "      <td>1</td>\n",
       "      <td>2011-09-21 17:35:28</td>\n",
       "    </tr>\n",
       "    <tr>\n",
       "      <th>1</th>\n",
       "      <td>213</td>\n",
       "      <td>16</td>\n",
       "      <td>64</td>\n",
       "      <td>1</td>\n",
       "      <td>2011-09-21 17:35:28</td>\n",
       "    </tr>\n",
       "    <tr>\n",
       "      <th>2</th>\n",
       "      <td>213</td>\n",
       "      <td>16</td>\n",
       "      <td>11</td>\n",
       "      <td>0</td>\n",
       "      <td>2011-09-21 17:35:28</td>\n",
       "    </tr>\n",
       "    <tr>\n",
       "      <th>3</th>\n",
       "      <td>213</td>\n",
       "      <td>16</td>\n",
       "      <td>12</td>\n",
       "      <td>1</td>\n",
       "      <td>2011-09-21 17:35:28</td>\n",
       "    </tr>\n",
       "    <tr>\n",
       "      <th>4</th>\n",
       "      <td>213</td>\n",
       "      <td>16</td>\n",
       "      <td>4</td>\n",
       "      <td>1</td>\n",
       "      <td>2011-09-21 17:35:28</td>\n",
       "    </tr>\n",
       "  </tbody>\n",
       "</table>\n",
       "</div>"
      ],
      "text/plain": [
       "   Anon Student Id  Problem Name  KC (F2011)  Outcome                Time\n",
       "0              213            16           7        1 2011-09-21 17:35:28\n",
       "1              213            16          64        1 2011-09-21 17:35:28\n",
       "2              213            16          11        0 2011-09-21 17:35:28\n",
       "3              213            16          12        1 2011-09-21 17:35:28\n",
       "4              213            16           4        1 2011-09-21 17:35:28"
      ]
     },
     "execution_count": 20,
     "metadata": {},
     "output_type": "execute_result"
    }
   ],
   "source": [
    "# filtered_sel_data_sorted -> mapping_df\n",
    "#\"Anon Student Id\",\"Problem Name\",\"KC (F2011)\",\"Outcome\"\n",
    "mapping_df = filtered_sel_data_sorted.copy() \n",
    "mapping_df['Anon Student Id'] = filtered_sel_data_sorted['Anon Student Id'].map(stu_get_ID)\n",
    "mapping_df['Problem Name'] = filtered_sel_data_sorted['Problem Name'].map(plm_get_ID)\n",
    "mapping_df['KC (F2011)'] = filtered_sel_data_sorted['KC (F2011)'].map(kc_get_ID)\n",
    "mapping_df['Outcome'] = mapping_df['Outcome'].map(out_get_ID)\n",
    "mapping_df.head(5)"
   ]
  },
  {
   "cell_type": "code",
   "execution_count": 21,
   "id": "1b8b0b20",
   "metadata": {},
   "outputs": [
    {
     "data": {
      "text/html": [
       "<div>\n",
       "<style scoped>\n",
       "    .dataframe tbody tr th:only-of-type {\n",
       "        vertical-align: middle;\n",
       "    }\n",
       "\n",
       "    .dataframe tbody tr th {\n",
       "        vertical-align: top;\n",
       "    }\n",
       "\n",
       "    .dataframe thead th {\n",
       "        text-align: right;\n",
       "    }\n",
       "</style>\n",
       "<table border=\"1\" class=\"dataframe\">\n",
       "  <thead>\n",
       "    <tr style=\"text-align: right;\">\n",
       "      <th></th>\n",
       "      <th>Anon Student Id</th>\n",
       "      <th>Problem Name</th>\n",
       "      <th>KC (F2011)</th>\n",
       "      <th>Outcome</th>\n",
       "      <th>Time</th>\n",
       "    </tr>\n",
       "  </thead>\n",
       "  <tbody>\n",
       "    <tr>\n",
       "      <th>41652</th>\n",
       "      <td>0</td>\n",
       "      <td>17</td>\n",
       "      <td>7</td>\n",
       "      <td>1</td>\n",
       "      <td>2011-08-23 18:37:04</td>\n",
       "    </tr>\n",
       "    <tr>\n",
       "      <th>41653</th>\n",
       "      <td>0</td>\n",
       "      <td>17</td>\n",
       "      <td>7</td>\n",
       "      <td>1</td>\n",
       "      <td>2011-08-23 18:37:05</td>\n",
       "    </tr>\n",
       "    <tr>\n",
       "      <th>41654</th>\n",
       "      <td>0</td>\n",
       "      <td>17</td>\n",
       "      <td>7</td>\n",
       "      <td>1</td>\n",
       "      <td>2011-08-23 18:37:08</td>\n",
       "    </tr>\n",
       "    <tr>\n",
       "      <th>41655</th>\n",
       "      <td>0</td>\n",
       "      <td>17</td>\n",
       "      <td>7</td>\n",
       "      <td>1</td>\n",
       "      <td>2011-08-23 18:37:11</td>\n",
       "    </tr>\n",
       "    <tr>\n",
       "      <th>41656</th>\n",
       "      <td>0</td>\n",
       "      <td>17</td>\n",
       "      <td>7</td>\n",
       "      <td>1</td>\n",
       "      <td>2011-08-23 18:37:12</td>\n",
       "    </tr>\n",
       "    <tr>\n",
       "      <th>...</th>\n",
       "      <td>...</td>\n",
       "      <td>...</td>\n",
       "      <td>...</td>\n",
       "      <td>...</td>\n",
       "      <td>...</td>\n",
       "    </tr>\n",
       "    <tr>\n",
       "      <th>42856</th>\n",
       "      <td>0</td>\n",
       "      <td>93</td>\n",
       "      <td>77</td>\n",
       "      <td>1</td>\n",
       "      <td>2011-11-28 19:42:51</td>\n",
       "    </tr>\n",
       "    <tr>\n",
       "      <th>42857</th>\n",
       "      <td>0</td>\n",
       "      <td>93</td>\n",
       "      <td>76</td>\n",
       "      <td>1</td>\n",
       "      <td>2011-11-28 19:42:51</td>\n",
       "    </tr>\n",
       "    <tr>\n",
       "      <th>42858</th>\n",
       "      <td>0</td>\n",
       "      <td>93</td>\n",
       "      <td>75</td>\n",
       "      <td>1</td>\n",
       "      <td>2011-11-28 19:42:51</td>\n",
       "    </tr>\n",
       "    <tr>\n",
       "      <th>42859</th>\n",
       "      <td>0</td>\n",
       "      <td>129</td>\n",
       "      <td>79</td>\n",
       "      <td>0</td>\n",
       "      <td>2011-12-05 23:39:34</td>\n",
       "    </tr>\n",
       "    <tr>\n",
       "      <th>42860</th>\n",
       "      <td>0</td>\n",
       "      <td>129</td>\n",
       "      <td>78</td>\n",
       "      <td>0</td>\n",
       "      <td>2011-12-05 23:39:34</td>\n",
       "    </tr>\n",
       "  </tbody>\n",
       "</table>\n",
       "<p>1209 rows × 5 columns</p>\n",
       "</div>"
      ],
      "text/plain": [
       "       Anon Student Id  Problem Name  KC (F2011)  Outcome                Time\n",
       "41652                0            17           7        1 2011-08-23 18:37:04\n",
       "41653                0            17           7        1 2011-08-23 18:37:05\n",
       "41654                0            17           7        1 2011-08-23 18:37:08\n",
       "41655                0            17           7        1 2011-08-23 18:37:11\n",
       "41656                0            17           7        1 2011-08-23 18:37:12\n",
       "...                ...           ...         ...      ...                 ...\n",
       "42856                0            93          77        1 2011-11-28 19:42:51\n",
       "42857                0            93          76        1 2011-11-28 19:42:51\n",
       "42858                0            93          75        1 2011-11-28 19:42:51\n",
       "42859                0           129          79        0 2011-12-05 23:39:34\n",
       "42860                0           129          78        0 2011-12-05 23:39:34\n",
       "\n",
       "[1209 rows x 5 columns]"
      ]
     },
     "execution_count": 21,
     "metadata": {},
     "output_type": "execute_result"
    }
   ],
   "source": [
    "mapping_df.loc[mapping_df['Anon Student Id'] == 0]"
   ]
  },
  {
   "cell_type": "markdown",
   "id": "4a175e27",
   "metadata": {},
   "source": [
    "# 4 Generate JSON file"
   ]
  },
  {
   "cell_type": "code",
   "execution_count": 22,
   "id": "8aa3b667",
   "metadata": {},
   "outputs": [],
   "source": [
    "# Anon Student Id    Problem Name    KC (F2011)    Outcome    Time"
   ]
  },
  {
   "cell_type": "code",
   "execution_count": 23,
   "id": "33647335",
   "metadata": {},
   "outputs": [],
   "source": [
    "# Get all the knowledge points corresponding to each question id\n",
    "problem_skill_group_dic = {}\n",
    "problem_list = mapping_df['Problem Name'].value_counts().index.tolist()\n",
    "for index, p_id in enumerate(problem_list):\n",
    "    p_float_list = mapping_df.loc[mapping_df['Problem Name'] == p_id]['KC (F2011)'].value_counts().index.tolist()\n",
    "    p_int_list = list(map(int, p_float_list))\n",
    "    problem_skill_group_dic[p_id] = p_int_list"
   ]
  },
  {
   "cell_type": "code",
   "execution_count": 24,
   "id": "6822a5d4",
   "metadata": {},
   "outputs": [],
   "source": [
    "# save\n",
    "def save_dict_to_txt(dictionary, filename):\n",
    "    with open(filename, 'w', encoding='utf-8') as file:\n",
    "        json.dump(dictionary, file, ensure_ascii=False, indent=4)\n",
    "save_dict_to_txt(problem_skill_group_dic, 'stt_q_kc_dic.txt')"
   ]
  },
  {
   "cell_type": "code",
   "execution_count": 59,
   "id": "9b692915",
   "metadata": {},
   "outputs": [
    {
     "data": {
      "text/html": [
       "<div>\n",
       "<style scoped>\n",
       "    .dataframe tbody tr th:only-of-type {\n",
       "        vertical-align: middle;\n",
       "    }\n",
       "\n",
       "    .dataframe tbody tr th {\n",
       "        vertical-align: top;\n",
       "    }\n",
       "\n",
       "    .dataframe thead th {\n",
       "        text-align: right;\n",
       "    }\n",
       "</style>\n",
       "<table border=\"1\" class=\"dataframe\">\n",
       "  <thead>\n",
       "    <tr style=\"text-align: right;\">\n",
       "      <th></th>\n",
       "      <th>Anon Student Id</th>\n",
       "      <th>Problem Name</th>\n",
       "      <th>KC (F2011)</th>\n",
       "      <th>Outcome</th>\n",
       "      <th>Time</th>\n",
       "    </tr>\n",
       "  </thead>\n",
       "  <tbody>\n",
       "    <tr>\n",
       "      <th>0</th>\n",
       "      <td>213</td>\n",
       "      <td>16</td>\n",
       "      <td>7,11,64,12,4</td>\n",
       "      <td>1</td>\n",
       "      <td>2011-09-21 17:35:28</td>\n",
       "    </tr>\n",
       "    <tr>\n",
       "      <th>1</th>\n",
       "      <td>213</td>\n",
       "      <td>16</td>\n",
       "      <td>7,11,64,12,4</td>\n",
       "      <td>1</td>\n",
       "      <td>2011-09-21 17:35:28</td>\n",
       "    </tr>\n",
       "    <tr>\n",
       "      <th>2</th>\n",
       "      <td>213</td>\n",
       "      <td>16</td>\n",
       "      <td>7,11,64,12,4</td>\n",
       "      <td>0</td>\n",
       "      <td>2011-09-21 17:35:28</td>\n",
       "    </tr>\n",
       "    <tr>\n",
       "      <th>3</th>\n",
       "      <td>213</td>\n",
       "      <td>16</td>\n",
       "      <td>7,11,64,12,4</td>\n",
       "      <td>1</td>\n",
       "      <td>2011-09-21 17:35:28</td>\n",
       "    </tr>\n",
       "    <tr>\n",
       "      <th>4</th>\n",
       "      <td>213</td>\n",
       "      <td>16</td>\n",
       "      <td>7,11,64,12,4</td>\n",
       "      <td>1</td>\n",
       "      <td>2011-09-21 17:35:28</td>\n",
       "    </tr>\n",
       "    <tr>\n",
       "      <th>5</th>\n",
       "      <td>213</td>\n",
       "      <td>16</td>\n",
       "      <td>7,11,64,12,4</td>\n",
       "      <td>0</td>\n",
       "      <td>2011-09-21 17:35:28</td>\n",
       "    </tr>\n",
       "  </tbody>\n",
       "</table>\n",
       "</div>"
      ],
      "text/plain": [
       "   Anon Student Id  Problem Name    KC (F2011)  Outcome                Time\n",
       "0              213            16  7,11,64,12,4        1 2011-09-21 17:35:28\n",
       "1              213            16  7,11,64,12,4        1 2011-09-21 17:35:28\n",
       "2              213            16  7,11,64,12,4        0 2011-09-21 17:35:28\n",
       "3              213            16  7,11,64,12,4        1 2011-09-21 17:35:28\n",
       "4              213            16  7,11,64,12,4        1 2011-09-21 17:35:28\n",
       "5              213            16  7,11,64,12,4        0 2011-09-21 17:35:28"
      ]
     },
     "execution_count": 59,
     "metadata": {},
     "output_type": "execute_result"
    }
   ],
   "source": [
    "# Complete all the knowledge points corresponding to each question.\n",
    "res_df = mapping_df.copy()\n",
    "res_df['KC (F2011)'] = mapping_df['Problem Name'].map(problem_skill_group_dic)\n",
    "res_df['KC (F2011)'] = res_df['KC (F2011)'].apply(lambda x: ','.join([str(item) for item in x]) if isinstance(x, list) else x)\n",
    "res_df.head(6)\n",
    "#res_df.shape #:(118762, 5)"
   ]
  },
  {
   "cell_type": "code",
   "execution_count": 60,
   "id": "85ef6c82",
   "metadata": {},
   "outputs": [
    {
     "data": {
      "text/html": [
       "<div>\n",
       "<style scoped>\n",
       "    .dataframe tbody tr th:only-of-type {\n",
       "        vertical-align: middle;\n",
       "    }\n",
       "\n",
       "    .dataframe tbody tr th {\n",
       "        vertical-align: top;\n",
       "    }\n",
       "\n",
       "    .dataframe thead th {\n",
       "        text-align: right;\n",
       "    }\n",
       "</style>\n",
       "<table border=\"1\" class=\"dataframe\">\n",
       "  <thead>\n",
       "    <tr style=\"text-align: right;\">\n",
       "      <th></th>\n",
       "      <th>Anon Student Id</th>\n",
       "      <th>Problem Name</th>\n",
       "      <th>KC (F2011)</th>\n",
       "      <th>Outcome</th>\n",
       "      <th>Time</th>\n",
       "    </tr>\n",
       "  </thead>\n",
       "  <tbody>\n",
       "    <tr>\n",
       "      <th>41652</th>\n",
       "      <td>0</td>\n",
       "      <td>17</td>\n",
       "      <td>7</td>\n",
       "      <td>1</td>\n",
       "      <td>2011-08-23 18:37:04</td>\n",
       "    </tr>\n",
       "    <tr>\n",
       "      <th>41653</th>\n",
       "      <td>0</td>\n",
       "      <td>17</td>\n",
       "      <td>7</td>\n",
       "      <td>1</td>\n",
       "      <td>2011-08-23 18:37:05</td>\n",
       "    </tr>\n",
       "    <tr>\n",
       "      <th>41654</th>\n",
       "      <td>0</td>\n",
       "      <td>17</td>\n",
       "      <td>7</td>\n",
       "      <td>1</td>\n",
       "      <td>2011-08-23 18:37:08</td>\n",
       "    </tr>\n",
       "    <tr>\n",
       "      <th>41655</th>\n",
       "      <td>0</td>\n",
       "      <td>17</td>\n",
       "      <td>7</td>\n",
       "      <td>1</td>\n",
       "      <td>2011-08-23 18:37:11</td>\n",
       "    </tr>\n",
       "    <tr>\n",
       "      <th>41656</th>\n",
       "      <td>0</td>\n",
       "      <td>17</td>\n",
       "      <td>7</td>\n",
       "      <td>1</td>\n",
       "      <td>2011-08-23 18:37:12</td>\n",
       "    </tr>\n",
       "    <tr>\n",
       "      <th>...</th>\n",
       "      <td>...</td>\n",
       "      <td>...</td>\n",
       "      <td>...</td>\n",
       "      <td>...</td>\n",
       "      <td>...</td>\n",
       "    </tr>\n",
       "    <tr>\n",
       "      <th>42856</th>\n",
       "      <td>0</td>\n",
       "      <td>93</td>\n",
       "      <td>77,76,75,74</td>\n",
       "      <td>1</td>\n",
       "      <td>2011-11-28 19:42:51</td>\n",
       "    </tr>\n",
       "    <tr>\n",
       "      <th>42857</th>\n",
       "      <td>0</td>\n",
       "      <td>93</td>\n",
       "      <td>77,76,75,74</td>\n",
       "      <td>1</td>\n",
       "      <td>2011-11-28 19:42:51</td>\n",
       "    </tr>\n",
       "    <tr>\n",
       "      <th>42858</th>\n",
       "      <td>0</td>\n",
       "      <td>93</td>\n",
       "      <td>77,76,75,74</td>\n",
       "      <td>1</td>\n",
       "      <td>2011-11-28 19:42:51</td>\n",
       "    </tr>\n",
       "    <tr>\n",
       "      <th>42859</th>\n",
       "      <td>0</td>\n",
       "      <td>129</td>\n",
       "      <td>78,79</td>\n",
       "      <td>0</td>\n",
       "      <td>2011-12-05 23:39:34</td>\n",
       "    </tr>\n",
       "    <tr>\n",
       "      <th>42860</th>\n",
       "      <td>0</td>\n",
       "      <td>129</td>\n",
       "      <td>78,79</td>\n",
       "      <td>0</td>\n",
       "      <td>2011-12-05 23:39:34</td>\n",
       "    </tr>\n",
       "  </tbody>\n",
       "</table>\n",
       "<p>1209 rows × 5 columns</p>\n",
       "</div>"
      ],
      "text/plain": [
       "       Anon Student Id  Problem Name   KC (F2011)  Outcome                Time\n",
       "41652                0            17            7        1 2011-08-23 18:37:04\n",
       "41653                0            17            7        1 2011-08-23 18:37:05\n",
       "41654                0            17            7        1 2011-08-23 18:37:08\n",
       "41655                0            17            7        1 2011-08-23 18:37:11\n",
       "41656                0            17            7        1 2011-08-23 18:37:12\n",
       "...                ...           ...          ...      ...                 ...\n",
       "42856                0            93  77,76,75,74        1 2011-11-28 19:42:51\n",
       "42857                0            93  77,76,75,74        1 2011-11-28 19:42:51\n",
       "42858                0            93  77,76,75,74        1 2011-11-28 19:42:51\n",
       "42859                0           129        78,79        0 2011-12-05 23:39:34\n",
       "42860                0           129        78,79        0 2011-12-05 23:39:34\n",
       "\n",
       "[1209 rows x 5 columns]"
      ]
     },
     "execution_count": 60,
     "metadata": {},
     "output_type": "execute_result"
    }
   ],
   "source": [
    "# drop defore\n",
    "res_df.loc[res_df['Anon Student Id'] == 0]"
   ]
  },
  {
   "cell_type": "code",
   "execution_count": 61,
   "id": "2c444f35",
   "metadata": {},
   "outputs": [],
   "source": [
    "# Delete the redundant answer records split by knowledge points.\n",
    "res_df = res_df.drop_duplicates().reset_index(drop=True)\n",
    "#res_df.shape #：(105872, 5)"
   ]
  },
  {
   "cell_type": "code",
   "execution_count": 62,
   "id": "4adf24d8",
   "metadata": {},
   "outputs": [
    {
     "data": {
      "text/html": [
       "<div>\n",
       "<style scoped>\n",
       "    .dataframe tbody tr th:only-of-type {\n",
       "        vertical-align: middle;\n",
       "    }\n",
       "\n",
       "    .dataframe tbody tr th {\n",
       "        vertical-align: top;\n",
       "    }\n",
       "\n",
       "    .dataframe thead th {\n",
       "        text-align: right;\n",
       "    }\n",
       "</style>\n",
       "<table border=\"1\" class=\"dataframe\">\n",
       "  <thead>\n",
       "    <tr style=\"text-align: right;\">\n",
       "      <th></th>\n",
       "      <th>Anon Student Id</th>\n",
       "      <th>Problem Name</th>\n",
       "      <th>KC (F2011)</th>\n",
       "      <th>Outcome</th>\n",
       "      <th>Time</th>\n",
       "    </tr>\n",
       "  </thead>\n",
       "  <tbody>\n",
       "    <tr>\n",
       "      <th>37210</th>\n",
       "      <td>0</td>\n",
       "      <td>17</td>\n",
       "      <td>7</td>\n",
       "      <td>1</td>\n",
       "      <td>2011-08-23 18:37:04</td>\n",
       "    </tr>\n",
       "    <tr>\n",
       "      <th>37211</th>\n",
       "      <td>0</td>\n",
       "      <td>17</td>\n",
       "      <td>7</td>\n",
       "      <td>1</td>\n",
       "      <td>2011-08-23 18:37:05</td>\n",
       "    </tr>\n",
       "    <tr>\n",
       "      <th>37212</th>\n",
       "      <td>0</td>\n",
       "      <td>17</td>\n",
       "      <td>7</td>\n",
       "      <td>1</td>\n",
       "      <td>2011-08-23 18:37:08</td>\n",
       "    </tr>\n",
       "    <tr>\n",
       "      <th>37213</th>\n",
       "      <td>0</td>\n",
       "      <td>17</td>\n",
       "      <td>7</td>\n",
       "      <td>1</td>\n",
       "      <td>2011-08-23 18:37:11</td>\n",
       "    </tr>\n",
       "    <tr>\n",
       "      <th>37214</th>\n",
       "      <td>0</td>\n",
       "      <td>17</td>\n",
       "      <td>7</td>\n",
       "      <td>1</td>\n",
       "      <td>2011-08-23 18:37:12</td>\n",
       "    </tr>\n",
       "    <tr>\n",
       "      <th>...</th>\n",
       "      <td>...</td>\n",
       "      <td>...</td>\n",
       "      <td>...</td>\n",
       "      <td>...</td>\n",
       "      <td>...</td>\n",
       "    </tr>\n",
       "    <tr>\n",
       "      <th>38359</th>\n",
       "      <td>0</td>\n",
       "      <td>52</td>\n",
       "      <td>60,48,49</td>\n",
       "      <td>1</td>\n",
       "      <td>2011-10-24 23:38:24</td>\n",
       "    </tr>\n",
       "    <tr>\n",
       "      <th>38360</th>\n",
       "      <td>0</td>\n",
       "      <td>52</td>\n",
       "      <td>60,48,49</td>\n",
       "      <td>0</td>\n",
       "      <td>2011-10-24 23:38:24</td>\n",
       "    </tr>\n",
       "    <tr>\n",
       "      <th>38361</th>\n",
       "      <td>0</td>\n",
       "      <td>80</td>\n",
       "      <td>52,67</td>\n",
       "      <td>1</td>\n",
       "      <td>2011-10-27 09:56:25</td>\n",
       "    </tr>\n",
       "    <tr>\n",
       "      <th>38362</th>\n",
       "      <td>0</td>\n",
       "      <td>93</td>\n",
       "      <td>77,76,75,74</td>\n",
       "      <td>1</td>\n",
       "      <td>2011-11-28 19:42:51</td>\n",
       "    </tr>\n",
       "    <tr>\n",
       "      <th>38363</th>\n",
       "      <td>0</td>\n",
       "      <td>129</td>\n",
       "      <td>78,79</td>\n",
       "      <td>0</td>\n",
       "      <td>2011-12-05 23:39:34</td>\n",
       "    </tr>\n",
       "  </tbody>\n",
       "</table>\n",
       "<p>1154 rows × 5 columns</p>\n",
       "</div>"
      ],
      "text/plain": [
       "       Anon Student Id  Problem Name   KC (F2011)  Outcome                Time\n",
       "37210                0            17            7        1 2011-08-23 18:37:04\n",
       "37211                0            17            7        1 2011-08-23 18:37:05\n",
       "37212                0            17            7        1 2011-08-23 18:37:08\n",
       "37213                0            17            7        1 2011-08-23 18:37:11\n",
       "37214                0            17            7        1 2011-08-23 18:37:12\n",
       "...                ...           ...          ...      ...                 ...\n",
       "38359                0            52     60,48,49        1 2011-10-24 23:38:24\n",
       "38360                0            52     60,48,49        0 2011-10-24 23:38:24\n",
       "38361                0            80        52,67        1 2011-10-27 09:56:25\n",
       "38362                0            93  77,76,75,74        1 2011-11-28 19:42:51\n",
       "38363                0           129        78,79        0 2011-12-05 23:39:34\n",
       "\n",
       "[1154 rows x 5 columns]"
      ]
     },
     "execution_count": 62,
     "metadata": {},
     "output_type": "execute_result"
    }
   ],
   "source": [
    "# drop\n",
    "res_df.loc[res_df['Anon Student Id'] == 0]"
   ]
  },
  {
   "cell_type": "code",
   "execution_count": 63,
   "id": "42556db0",
   "metadata": {},
   "outputs": [],
   "source": [
    "# Generate JSON file\n",
    "initial_json_list = []\n",
    "Response_records_all_students = []\n",
    "\n",
    "for stu_id in stu_get_oriID:\n",
    "    df_1 = res_df.loc[res_df['Anon Student Id'] == stu_id]\n",
    "    logs_list = []\n",
    "    logs_num = len(df_1);\n",
    "    for index, row in df_1.iterrows():\n",
    "        p_id = row['Problem Name']\n",
    "        p_code_str = row['KC (F2011)'].split(',')\n",
    "        p_code = [int(item) for item in p_code_str]\n",
    "        if len(p_code) >= 1:\n",
    "            logs_item = {\"exer_id\": p_id, \"score\": row['Outcome'], \"knowledge_code\": p_code}\n",
    "            logs_list.append(logs_item)\n",
    "    initial_json_item = {\n",
    "        \"stu_id\": stu_id,\n",
    "        \"log_num\": len(logs_list),\n",
    "        \"logs\":logs_list\n",
    "    }\n",
    "    Response_records_all_students.append(len(logs_list))\n",
    "    initial_json_list.append(initial_json_item)"
   ]
  },
  {
   "cell_type": "code",
   "execution_count": 64,
   "id": "73dd2dae",
   "metadata": {},
   "outputs": [
    {
     "name": "stdout",
     "output_type": "stream",
     "text": [
      "Response_records: 105872\n",
      "Response_records_per_students: 333.98107255520506\n"
     ]
    }
   ],
   "source": [
    "# Overview of student records\n",
    "Response_records = sum(Response_records_all_students)\n",
    "Response_records_per_students = Response_records / len(Response_records_all_students)\n",
    "print(\"Response_records:\", Response_records)\n",
    "print(\"Response_records_per_students:\", Response_records_per_students)"
   ]
  },
  {
   "cell_type": "code",
   "execution_count": 65,
   "id": "40f1c833",
   "metadata": {},
   "outputs": [],
   "source": [
    "# Save JSON file \n",
    "def convert_int64_to_int(obj):\n",
    "    if isinstance(obj, np.int64):\n",
    "        return int(obj)\n",
    "    raise TypeError\n",
    "initial_json = json.dumps(initial_json_list, default=convert_int64_to_int, ensure_ascii=False, indent=4, separators=(',', ': '))\n",
    "filename = 'C:/Users/Lenovo/Desktop/Static_s15_p2_logs.json' #[change to your own path]\n",
    "with open(filename, 'w', encoding='utf-8') as file:\n",
    "    file.write(initial_json)"
   ]
  },
  {
   "cell_type": "markdown",
   "id": "5f58ff90",
   "metadata": {},
   "source": [
    "# 5 Generate knowledge graph"
   ]
  },
  {
   "cell_type": "markdown",
   "id": "9005a3de",
   "metadata": {},
   "source": [
    "## 5-1 SentenceTransformer -> semantic similarity"
   ]
  },
  {
   "cell_type": "code",
   "execution_count": 66,
   "id": "d7fef5da",
   "metadata": {},
   "outputs": [],
   "source": [
    "# stu_get_ID\n",
    "# plm_get_ID\n",
    "# kc_get_ID\n",
    "\n",
    "# stu_get_oriID\n",
    "# plm_get_NAME\n",
    "# kc_get_NAME"
   ]
  },
  {
   "cell_type": "code",
   "execution_count": 67,
   "id": "efa3f4d5",
   "metadata": {},
   "outputs": [],
   "source": [
    "# Anon Student Id    Problem Name    KC (F2011)    Outcome    Time"
   ]
  },
  {
   "cell_type": "code",
   "execution_count": 70,
   "id": "f4a09934",
   "metadata": {},
   "outputs": [],
   "source": [
    "model = SentenceTransformer('E:/[model]big_model/all-MiniLM-L6-v2') #[need download model and change to your own path]"
   ]
  },
  {
   "cell_type": "code",
   "execution_count": 71,
   "id": "4b47b0a7",
   "metadata": {},
   "outputs": [],
   "source": [
    "# kcid-kc_tensor\n",
    "KCID_tensor_dic = {}\n",
    "for kcid in kc_get_NAME:\n",
    "    if kc_get_NAME[kcid] != \"nan\":\n",
    "        embedding = model.encode(kc_get_NAME[kcid], convert_to_tensor=True)\n",
    "        KCID_tensor_dic[kcid] = embedding"
   ]
  },
  {
   "cell_type": "code",
   "execution_count": 72,
   "id": "ed4f11be",
   "metadata": {},
   "outputs": [],
   "source": [
    "# Similarity matrix\n",
    "mx_size = len(kc_get_NAME)\n",
    "s_matrix = np.zeros((mx_size, mx_size))\n",
    "\n",
    "for kcid1 in KCID_tensor_dic:\n",
    "    t1 = KCID_tensor_dic[kcid1]\n",
    "    for kcid2 in KCID_tensor_dic:\n",
    "        if(kcid1 == kcid2):\n",
    "            s_matrix[kcid1][kcid2] = 0\n",
    "            continue\n",
    "        t2 = KCID_tensor_dic[kcid2]\n",
    "        s_matrix[kcid1][kcid2] = util.pytorch_cos_sim(t1, t2)"
   ]
  },
  {
   "cell_type": "code",
   "execution_count": 73,
   "id": "0799613d",
   "metadata": {},
   "outputs": [
    {
     "data": {
      "text/plain": [
       "<Axes: >"
      ]
     },
     "execution_count": 73,
     "metadata": {},
     "output_type": "execute_result"
    },
    {
     "data": {
      "image/png": "[encoded data removed]",
      "text/plain": [
       "<Figure size 900x600 with 2 Axes>"
      ]
     },
     "metadata": {},
     "output_type": "display_data"
    }
   ],
   "source": [
    "# Heat map analysis\n",
    "plt.figure(dpi=150, figsize=(6, 4))\n",
    "sns.heatmap(\n",
    "    data=s_matrix,\n",
    "    cmap=sns.diverging_palette(255, 5, as_cmap=True),\n",
    ")\n",
    "#plt.savefig('skill_heatmap_before.png')"
   ]
  },
  {
   "cell_type": "code",
   "execution_count": 74,
   "id": "14303595",
   "metadata": {},
   "outputs": [
    {
     "data": {
      "text/plain": [
       "1548"
      ]
     },
     "execution_count": 74,
     "metadata": {},
     "output_type": "execute_result"
    }
   ],
   "source": [
    "# Generating similarity binary group\n",
    "s_triple_list = []\n",
    "for i in range(mx_size):\n",
    "    for j in range(mx_size):\n",
    "        if s_matrix[i][j] > 0.4:\n",
    "            triple_item = [i,j]\n",
    "            s_triple_list.append(triple_item)\n",
    "            triple_item = [j,i]\n",
    "            s_triple_list.append(triple_item)\n",
    "len(s_triple_list) #:1548"
   ]
  },
  {
   "cell_type": "code",
   "execution_count": 75,
   "id": "37c15062",
   "metadata": {},
   "outputs": [],
   "source": [
    "s_triple_df = pd.DataFrame(s_triple_list, columns=['Subject','Object'])"
   ]
  },
  {
   "cell_type": "markdown",
   "id": "d2cd2fb2",
   "metadata": {},
   "source": [
    "## 5-2 Analysis of Co-occurrence of Knowledge Points"
   ]
  },
  {
   "cell_type": "code",
   "execution_count": 76,
   "id": "46bd9676",
   "metadata": {},
   "outputs": [
    {
     "data": {
      "text/plain": [
       "67"
      ]
     },
     "execution_count": 76,
     "metadata": {},
     "output_type": "execute_result"
    }
   ],
   "source": [
    "p_group_list = []\n",
    "for key, value in problem_skill_group_dic.items():\n",
    "    coo_list = value\n",
    "    if len(coo_list) >= 2:\n",
    "        p_group_list.append(coo_list) #同时出现在一道题目的多个知识点id的组合列表【共现列表】\n",
    "len(p_group_list) #:67"
   ]
  },
  {
   "cell_type": "code",
   "execution_count": 77,
   "id": "3aeb8913",
   "metadata": {},
   "outputs": [],
   "source": [
    "# Co-occurrence matrix\n",
    "mx_size = len(kc_get_NAME) #mx_size ： 80\n",
    "\n",
    "m_matrix = np.zeros((mx_size, mx_size))\n",
    "for p_group in p_group_list:\n",
    "    for i in range(0,len(p_group)):\n",
    "        for j in range(i+1,len(p_group)):\n",
    "            m_matrix[p_group[i],p_group[j]] += 1;\n",
    "            m_matrix[p_group[j],p_group[i]] += 1;"
   ]
  },
  {
   "cell_type": "code",
   "execution_count": 78,
   "id": "98822c54",
   "metadata": {},
   "outputs": [
    {
     "data": {
      "text/plain": [
       "<Axes: >"
      ]
     },
     "execution_count": 78,
     "metadata": {},
     "output_type": "execute_result"
    },
    {
     "data": {
      "image/png": "[encoded data removed]",
      "text/plain": [
       "<Figure size 900x600 with 2 Axes>"
      ]
     },
     "metadata": {},
     "output_type": "display_data"
    }
   ],
   "source": [
    "# Heat map analysis\n",
    "plt.figure(dpi=150, figsize=(6, 4))\n",
    "sns.heatmap(\n",
    "    data=m_matrix,\n",
    "    cmap=sns.diverging_palette(255, 5, as_cmap=True),\n",
    ")\n",
    "#plt.savefig('skill_group_heatmap.png')"
   ]
  },
  {
   "cell_type": "code",
   "execution_count": 79,
   "id": "20b02dd3",
   "metadata": {},
   "outputs": [
    {
     "data": {
      "image/png": "[encoded data removed]",
      "text/plain": [
       "<Figure size 640x480 with 1 Axes>"
      ]
     },
     "metadata": {},
     "output_type": "display_data"
    }
   ],
   "source": [
    "# Histogram analysis\n",
    "freq_list = []\n",
    "for line in m_matrix:\n",
    "    for item in line:\n",
    "        if item > 0:\n",
    "            freq_list.append(item)\n",
    "freq_array = np.array(freq_list)\n",
    "plt.hist(freq_array, bins=11)\n",
    "plt.xlabel('Meanwhile_times')\n",
    "plt.ylabel('Group_nums')\n",
    "plt.title('Histogram of Matrix Elements')\n",
    "plt.savefig('skill_meanwhile_frequency.png')\n",
    "plt.show()"
   ]
  },
  {
   "cell_type": "code",
   "execution_count": 80,
   "id": "7978828c",
   "metadata": {},
   "outputs": [
    {
     "data": {
      "text/plain": [
       "748"
      ]
     },
     "execution_count": 80,
     "metadata": {},
     "output_type": "execute_result"
    }
   ],
   "source": [
    "# Generating binary group\n",
    "m_triple_list = []\n",
    "for i in range(mx_size):\n",
    "    for j in range(mx_size):\n",
    "        if m_matrix[i][j] > 0:\n",
    "            triple_item = [i,j]\n",
    "            m_triple_list.append(triple_item)\n",
    "            triple_item = [j,i]\n",
    "            m_triple_list.append(triple_item)\n",
    "len(m_triple_list) #:748"
   ]
  },
  {
   "cell_type": "code",
   "execution_count": 81,
   "id": "75f80fb1",
   "metadata": {},
   "outputs": [],
   "source": [
    "m_triple_df = pd.DataFrame(m_triple_list, columns=['Subject','Object'])"
   ]
  },
  {
   "cell_type": "markdown",
   "id": "d0c58f02",
   "metadata": {},
   "source": [
    "## 2-3 Knowledge graph file"
   ]
  },
  {
   "cell_type": "code",
   "execution_count": 82,
   "id": "9eda8e0d",
   "metadata": {},
   "outputs": [],
   "source": [
    "# s_triple_df\n",
    "# m_triple_df\n",
    "# 'Subject','Object'"
   ]
  },
  {
   "cell_type": "code",
   "execution_count": 83,
   "id": "b6a7a1cf",
   "metadata": {},
   "outputs": [
    {
     "data": {
      "text/html": [
       "<div>\n",
       "<style scoped>\n",
       "    .dataframe tbody tr th:only-of-type {\n",
       "        vertical-align: middle;\n",
       "    }\n",
       "\n",
       "    .dataframe tbody tr th {\n",
       "        vertical-align: top;\n",
       "    }\n",
       "\n",
       "    .dataframe thead th {\n",
       "        text-align: right;\n",
       "    }\n",
       "</style>\n",
       "<table border=\"1\" class=\"dataframe\">\n",
       "  <thead>\n",
       "    <tr style=\"text-align: right;\">\n",
       "      <th></th>\n",
       "      <th>Subject</th>\n",
       "      <th>Object</th>\n",
       "    </tr>\n",
       "  </thead>\n",
       "  <tbody>\n",
       "    <tr>\n",
       "      <th>0</th>\n",
       "      <td>0</td>\n",
       "      <td>47</td>\n",
       "    </tr>\n",
       "    <tr>\n",
       "      <th>1</th>\n",
       "      <td>47</td>\n",
       "      <td>0</td>\n",
       "    </tr>\n",
       "    <tr>\n",
       "      <th>2</th>\n",
       "      <td>1</td>\n",
       "      <td>2</td>\n",
       "    </tr>\n",
       "  </tbody>\n",
       "</table>\n",
       "</div>"
      ],
      "text/plain": [
       "   Subject  Object\n",
       "0        0      47\n",
       "1       47       0\n",
       "2        1       2"
      ]
     },
     "execution_count": 83,
     "metadata": {},
     "output_type": "execute_result"
    }
   ],
   "source": [
    "kg_df = pd.concat([s_triple_df, s_triple_df], ignore_index=True)\n",
    "kg_df = kg_df.drop_duplicates()\n",
    "kg_df.head(3)\n",
    "#kg_df.shape #:(774, 2)"
   ]
  },
  {
   "cell_type": "code",
   "execution_count": 85,
   "id": "e1e892e7",
   "metadata": {},
   "outputs": [],
   "source": [
    "# Save\n",
    "kg_df.to_csv('C:/Users/Lenovo/Desktop/Static_s15_p2_graph.txt', sep='\\t', index=False, header=False) #[change to your own path]"
   ]
  },
  {
   "cell_type": "code",
   "execution_count": null,
   "id": "b2416af2",
   "metadata": {},
   "outputs": [],
   "source": []
  }
 ],
 "metadata": {
  "kernelspec": {
   "display_name": "Python 3 (ipykernel)",
   "language": "python",
   "name": "python3"
  },
  "language_info": {
   "codemirror_mode": {
    "name": "ipython",
    "version": 3
   },
   "file_extension": ".py",
   "mimetype": "text/x-python",
   "name": "python",
   "nbconvert_exporter": "python",
   "pygments_lexer": "ipython3",
   "version": "3.8.17"
  }
 },
 "nbformat": 4,
 "nbformat_minor": 5
}
