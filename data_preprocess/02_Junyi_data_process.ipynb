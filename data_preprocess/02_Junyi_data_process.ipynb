{
 "cells": [
  {
   "cell_type": "markdown",
   "id": "4b1351ee",
   "metadata": {},
   "source": [
    "# Import"
   ]
  },
  {
   "cell_type": "code",
   "execution_count": 1,
   "id": "79b3bc5d",
   "metadata": {},
   "outputs": [],
   "source": [
    "from sentence_transformers import SentenceTransformer, util\n",
    "import matplotlib.pyplot as plt\n",
    "import seaborn as sns\n",
    "import pandas as pd\n",
    "import numpy as np\n",
    "import json\n",
    "import math\n",
    "import random"
   ]
  },
  {
   "cell_type": "code",
   "execution_count": 2,
   "id": "1be63c3b",
   "metadata": {},
   "outputs": [],
   "source": [
    "plm_url = \"E:/[1]ASS_Data/junyi/junyi_Exercise_table.csv\" #[change to your own path]\n",
    "logs_url = \"E:/[1]ASS_Data/junyi/junyi_ProblemLog_original/junyi_ProblemLog_original.csv\" #[change to your own path]"
   ]
  },
  {
   "cell_type": "markdown",
   "id": "7d9595d1",
   "metadata": {},
   "source": [
    "# Read data"
   ]
  },
  {
   "cell_type": "markdown",
   "id": "6ddbd90e",
   "metadata": {},
   "source": [
    "## R1-1: read_ Exercise_table"
   ]
  },
  {
   "cell_type": "code",
   "execution_count": 3,
   "id": "2f97476c",
   "metadata": {},
   "outputs": [],
   "source": [
    "plm_df = pd.read_csv(plm_url) #shape:(837, 11)"
   ]
  },
  {
   "cell_type": "code",
   "execution_count": 4,
   "id": "35436405",
   "metadata": {},
   "outputs": [
    {
     "data": {
      "text/plain": [
       "(837, 3)"
      ]
     },
     "execution_count": 4,
     "metadata": {},
     "output_type": "execute_result"
    }
   ],
   "source": [
    "select_collumns = ['name','topic','area']\n",
    "plm_s_df = plm_df[select_collumns]\n",
    "#plm_s_df.head()\n",
    "plm_s_df.shape #:(837, 3)\n",
    "#plm_s_df.isnull().sum() name:0 topic:20"
   ]
  },
  {
   "cell_type": "code",
   "execution_count": 5,
   "id": "4b93cf7d",
   "metadata": {},
   "outputs": [
    {
     "data": {
      "text/plain": [
       "(835, 3)"
      ]
     },
     "execution_count": 5,
     "metadata": {},
     "output_type": "execute_result"
    }
   ],
   "source": [
    "# drop_duplicates\n",
    "plm_s_df = plm_s_df.drop_duplicates().reset_index(drop=True)\n",
    "plm_s_df = plm_s_df.reset_index(drop=True)\n",
    "plm_s_df.shape #：(835, 3)"
   ]
  },
  {
   "cell_type": "code",
   "execution_count": 6,
   "id": "f207d63a",
   "metadata": {},
   "outputs": [],
   "source": [
    "# plm_SKname_dic\n",
    "plm_SKname_dic = plm_s_df.set_index('name')['topic'].to_dict()\n",
    "#len(plm_SKname_dic)#: 835"
   ]
  },
  {
   "cell_type": "code",
   "execution_count": 7,
   "id": "4faa78d9",
   "metadata": {},
   "outputs": [],
   "source": [
    "lost_topics_names = plm_s_df[plm_s_df.isnull().any(axis = 1) == True]['name'].tolist()\n",
    "lost_map = {}\n",
    "for index, value in enumerate(lost_topics_names):\n",
    "    lost_map[value] = 'unknown_topic_' + str(index)"
   ]
  },
  {
   "cell_type": "code",
   "execution_count": 8,
   "id": "3044aedf",
   "metadata": {},
   "outputs": [],
   "source": [
    "for key, value in lost_map.items():\n",
    "    plm_SKname_dic[key] = value"
   ]
  },
  {
   "cell_type": "code",
   "execution_count": 9,
   "id": "1b00a8ae",
   "metadata": {},
   "outputs": [
    {
     "data": {
      "text/html": [
       "<div>\n",
       "<style scoped>\n",
       "    .dataframe tbody tr th:only-of-type {\n",
       "        vertical-align: middle;\n",
       "    }\n",
       "\n",
       "    .dataframe tbody tr th {\n",
       "        vertical-align: top;\n",
       "    }\n",
       "\n",
       "    .dataframe thead th {\n",
       "        text-align: right;\n",
       "    }\n",
       "</style>\n",
       "<table border=\"1\" class=\"dataframe\">\n",
       "  <thead>\n",
       "    <tr style=\"text-align: right;\">\n",
       "      <th></th>\n",
       "      <th>name</th>\n",
       "      <th>topic</th>\n",
       "      <th>area</th>\n",
       "    </tr>\n",
       "  </thead>\n",
       "  <tbody>\n",
       "    <tr>\n",
       "      <th>0</th>\n",
       "      <td>parabola_intuition_1</td>\n",
       "      <td>conic-sections</td>\n",
       "      <td>algebra</td>\n",
       "    </tr>\n",
       "    <tr>\n",
       "      <th>1</th>\n",
       "      <td>circles_and_arcs</td>\n",
       "      <td>area-perimeter-and-volume</td>\n",
       "      <td>geometry</td>\n",
       "    </tr>\n",
       "    <tr>\n",
       "      <th>2</th>\n",
       "      <td>inscribed_angles_3</td>\n",
       "      <td>circle-properties</td>\n",
       "      <td>geometry</td>\n",
       "    </tr>\n",
       "    <tr>\n",
       "      <th>3</th>\n",
       "      <td>solving_quadratics_by_factoring</td>\n",
       "      <td>quadtratics</td>\n",
       "      <td>algebra</td>\n",
       "    </tr>\n",
       "    <tr>\n",
       "      <th>4</th>\n",
       "      <td>graphing_parabolas_1</td>\n",
       "      <td>quadtratics</td>\n",
       "      <td>algebra</td>\n",
       "    </tr>\n",
       "  </tbody>\n",
       "</table>\n",
       "</div>"
      ],
      "text/plain": [
       "                              name                      topic      area\n",
       "0             parabola_intuition_1             conic-sections   algebra\n",
       "1                 circles_and_arcs  area-perimeter-and-volume  geometry\n",
       "2               inscribed_angles_3          circle-properties  geometry\n",
       "3  solving_quadratics_by_factoring                quadtratics   algebra\n",
       "4             graphing_parabolas_1                quadtratics   algebra"
      ]
     },
     "execution_count": 9,
     "metadata": {},
     "output_type": "execute_result"
    }
   ],
   "source": [
    "plm_s_df['topic'] = plm_s_df['name'].map(plm_SKname_dic)\n",
    "plm_s_df.head()"
   ]
  },
  {
   "cell_type": "code",
   "execution_count": 10,
   "id": "726b257e",
   "metadata": {},
   "outputs": [],
   "source": [
    "plm_s_df['area'].fillna('unknown_area', inplace=True)"
   ]
  },
  {
   "cell_type": "markdown",
   "id": "22c7299a",
   "metadata": {},
   "source": [
    "## R2: read_ Logs"
   ]
  },
  {
   "cell_type": "code",
   "execution_count": 11,
   "id": "607365b8",
   "metadata": {},
   "outputs": [],
   "source": [
    "logs_df = pd.read_csv(logs_url) #shape:(25925992, 17)"
   ]
  },
  {
   "cell_type": "code",
   "execution_count": 12,
   "id": "c052f438",
   "metadata": {},
   "outputs": [
    {
     "data": {
      "text/html": [
       "<div>\n",
       "<style scoped>\n",
       "    .dataframe tbody tr th:only-of-type {\n",
       "        vertical-align: middle;\n",
       "    }\n",
       "\n",
       "    .dataframe tbody tr th {\n",
       "        vertical-align: top;\n",
       "    }\n",
       "\n",
       "    .dataframe thead th {\n",
       "        text-align: right;\n",
       "    }\n",
       "</style>\n",
       "<table border=\"1\" class=\"dataframe\">\n",
       "  <thead>\n",
       "    <tr style=\"text-align: right;\">\n",
       "      <th></th>\n",
       "      <th>user_id</th>\n",
       "      <th>exercise</th>\n",
       "      <th>correct</th>\n",
       "      <th>time_done</th>\n",
       "      <th>problem_number</th>\n",
       "    </tr>\n",
       "  </thead>\n",
       "  <tbody>\n",
       "    <tr>\n",
       "      <th>0</th>\n",
       "      <td>12884</td>\n",
       "      <td>time_terminology</td>\n",
       "      <td>False</td>\n",
       "      <td>1420714810324490</td>\n",
       "      <td>1</td>\n",
       "    </tr>\n",
       "    <tr>\n",
       "      <th>1</th>\n",
       "      <td>239464</td>\n",
       "      <td>multiplication_1</td>\n",
       "      <td>True</td>\n",
       "      <td>1403098400836660</td>\n",
       "      <td>6</td>\n",
       "    </tr>\n",
       "    <tr>\n",
       "      <th>2</th>\n",
       "      <td>147359</td>\n",
       "      <td>adding_decimals_0.5</td>\n",
       "      <td>True</td>\n",
       "      <td>1418890695540340</td>\n",
       "      <td>6</td>\n",
       "    </tr>\n",
       "    <tr>\n",
       "      <th>3</th>\n",
       "      <td>158155</td>\n",
       "      <td>multiplication_1</td>\n",
       "      <td>True</td>\n",
       "      <td>1400469444264040</td>\n",
       "      <td>3</td>\n",
       "    </tr>\n",
       "    <tr>\n",
       "      <th>4</th>\n",
       "      <td>147151</td>\n",
       "      <td>subtraction_2</td>\n",
       "      <td>True</td>\n",
       "      <td>1382650905730160</td>\n",
       "      <td>10</td>\n",
       "    </tr>\n",
       "  </tbody>\n",
       "</table>\n",
       "</div>"
      ],
      "text/plain": [
       "   user_id             exercise  correct         time_done  problem_number\n",
       "0    12884     time_terminology    False  1420714810324490               1\n",
       "1   239464     multiplication_1     True  1403098400836660               6\n",
       "2   147359  adding_decimals_0.5     True  1418890695540340               6\n",
       "3   158155     multiplication_1     True  1400469444264040               3\n",
       "4   147151        subtraction_2     True  1382650905730160              10"
      ]
     },
     "execution_count": 12,
     "metadata": {},
     "output_type": "execute_result"
    }
   ],
   "source": [
    "select_columns = ['user_id', 'exercise', 'correct', 'time_done', 'problem_number']\n",
    "logs_s_df = logs_df[select_columns]\n",
    "del(logs_df)\n",
    "logs_s_df.head()\n",
    "#logs_s_df.shape #:(25925992, 5)"
   ]
  },
  {
   "cell_type": "code",
   "execution_count": 13,
   "id": "3b13eede",
   "metadata": {},
   "outputs": [],
   "source": [
    "logs_s_df_copy = logs_s_df.copy()\n",
    "logs_s_df_copy.dropna(inplace=True)\n",
    "logs_s_df = logs_s_df_copy \n",
    "#logs_s_df.shape #shape: (25925992, 5)"
   ]
  },
  {
   "cell_type": "code",
   "execution_count": 14,
   "id": "db358ba3",
   "metadata": {},
   "outputs": [],
   "source": [
    "logs_s_df = logs_s_df.drop_duplicates().reset_index(drop=True)\n",
    "#logs_s_df.shape #：(25924553, 5)"
   ]
  },
  {
   "cell_type": "markdown",
   "id": "115d28be",
   "metadata": {},
   "source": [
    "# 1 Remove"
   ]
  },
  {
   "cell_type": "markdown",
   "id": "1d91b292",
   "metadata": {},
   "source": [
    "## 1-1 Remove students whose answers are less than or equal to 14 times"
   ]
  },
  {
   "cell_type": "code",
   "execution_count": 15,
   "id": "f9b038c0",
   "metadata": {},
   "outputs": [],
   "source": [
    "stu_list = logs_s_df['user_id'].value_counts().index.tolist()\n",
    "#len(stu_list) #:247606"
   ]
  },
  {
   "cell_type": "code",
   "execution_count": 16,
   "id": "10864732",
   "metadata": {},
   "outputs": [],
   "source": [
    "stu_times = logs_s_df['user_id'].value_counts()\n",
    "rare_stu = stu_times[stu_times <= 14].index.tolist()\n",
    "#len(rare_stu) #:135837"
   ]
  },
  {
   "cell_type": "code",
   "execution_count": 17,
   "id": "2da1097f",
   "metadata": {},
   "outputs": [],
   "source": [
    "logs_s_df = logs_s_df[~logs_s_df['user_id'].isin(rare_stu)]\n",
    "logs_s_df = logs_s_df.reset_index(drop=True)\n",
    "#logs_s_df.shape #：(25265344, 5)"
   ]
  },
  {
   "cell_type": "markdown",
   "id": "61c3232f",
   "metadata": {},
   "source": [
    "## 1-2 Remove questions answered less than or equal to 2 times"
   ]
  },
  {
   "cell_type": "code",
   "execution_count": 18,
   "id": "99e8d2ea",
   "metadata": {},
   "outputs": [
    {
     "data": {
      "text/plain": [
       "722"
      ]
     },
     "execution_count": 18,
     "metadata": {},
     "output_type": "execute_result"
    }
   ],
   "source": [
    "exer_list = logs_s_df['exercise'].value_counts().index.tolist()\n",
    "len(exer_list) #:722"
   ]
  },
  {
   "cell_type": "code",
   "execution_count": 19,
   "id": "34b805f5",
   "metadata": {},
   "outputs": [
    {
     "data": {
      "text/plain": [
       "4"
      ]
     },
     "execution_count": 19,
     "metadata": {},
     "output_type": "execute_result"
    }
   ],
   "source": [
    "exer_times = logs_s_df['exercise'].value_counts()\n",
    "rare_exer = exer_times[exer_times <= 2].index.tolist()\n",
    "len(rare_exer) #:4"
   ]
  },
  {
   "cell_type": "code",
   "execution_count": 20,
   "id": "1c0294fa",
   "metadata": {},
   "outputs": [
    {
     "data": {
      "text/plain": [
       "(25265339, 5)"
      ]
     },
     "execution_count": 20,
     "metadata": {},
     "output_type": "execute_result"
    }
   ],
   "source": [
    "logs_s_df = logs_s_df[~logs_s_df['exercise'].isin(rare_exer)]\n",
    "logs_s_df = logs_s_df.reset_index(drop=True)\n",
    "logs_s_df.shape #：(25265339, 5)"
   ]
  },
  {
   "cell_type": "markdown",
   "id": "cdba127e",
   "metadata": {},
   "source": [
    "# 2 Randomly select 5000 students"
   ]
  },
  {
   "cell_type": "code",
   "execution_count": 21,
   "id": "44ccdb47",
   "metadata": {},
   "outputs": [],
   "source": [
    "stu_list = logs_s_df['user_id'].value_counts().index.tolist()\n",
    "random_seed = 42\n",
    "random.seed(random_seed)\n",
    "selected_students = random.sample(stu_list, 5000)"
   ]
  },
  {
   "cell_type": "code",
   "execution_count": 22,
   "id": "a32780ed",
   "metadata": {},
   "outputs": [
    {
     "data": {
      "text/html": [
       "<div>\n",
       "<style scoped>\n",
       "    .dataframe tbody tr th:only-of-type {\n",
       "        vertical-align: middle;\n",
       "    }\n",
       "\n",
       "    .dataframe tbody tr th {\n",
       "        vertical-align: top;\n",
       "    }\n",
       "\n",
       "    .dataframe thead th {\n",
       "        text-align: right;\n",
       "    }\n",
       "</style>\n",
       "<table border=\"1\" class=\"dataframe\">\n",
       "  <thead>\n",
       "    <tr style=\"text-align: right;\">\n",
       "      <th></th>\n",
       "      <th>user_id</th>\n",
       "      <th>exercise</th>\n",
       "      <th>correct</th>\n",
       "      <th>time_done</th>\n",
       "      <th>problem_number</th>\n",
       "    </tr>\n",
       "  </thead>\n",
       "  <tbody>\n",
       "    <tr>\n",
       "      <th>0</th>\n",
       "      <td>12884</td>\n",
       "      <td>time_terminology</td>\n",
       "      <td>False</td>\n",
       "      <td>1420714810324490</td>\n",
       "      <td>1</td>\n",
       "    </tr>\n",
       "    <tr>\n",
       "      <th>1</th>\n",
       "      <td>239464</td>\n",
       "      <td>multiplication_1</td>\n",
       "      <td>True</td>\n",
       "      <td>1403098400836660</td>\n",
       "      <td>6</td>\n",
       "    </tr>\n",
       "    <tr>\n",
       "      <th>22</th>\n",
       "      <td>210091</td>\n",
       "      <td>combining_like_terms_1</td>\n",
       "      <td>True</td>\n",
       "      <td>1418635984961280</td>\n",
       "      <td>39</td>\n",
       "    </tr>\n",
       "    <tr>\n",
       "      <th>53</th>\n",
       "      <td>240639</td>\n",
       "      <td>volume_of_rectangular_boxes</td>\n",
       "      <td>False</td>\n",
       "      <td>1406297834969390</td>\n",
       "      <td>2</td>\n",
       "    </tr>\n",
       "    <tr>\n",
       "      <th>128</th>\n",
       "      <td>129105</td>\n",
       "      <td>divisibility_intuition</td>\n",
       "      <td>True</td>\n",
       "      <td>1393835171845250</td>\n",
       "      <td>4</td>\n",
       "    </tr>\n",
       "  </tbody>\n",
       "</table>\n",
       "</div>"
      ],
      "text/plain": [
       "     user_id                     exercise  correct         time_done  \\\n",
       "0      12884             time_terminology    False  1420714810324490   \n",
       "1     239464             multiplication_1     True  1403098400836660   \n",
       "22    210091       combining_like_terms_1     True  1418635984961280   \n",
       "53    240639  volume_of_rectangular_boxes    False  1406297834969390   \n",
       "128   129105       divisibility_intuition     True  1393835171845250   \n",
       "\n",
       "     problem_number  \n",
       "0                 1  \n",
       "1                 6  \n",
       "22               39  \n",
       "53                2  \n",
       "128               4  "
      ]
     },
     "execution_count": 22,
     "metadata": {},
     "output_type": "execute_result"
    }
   ],
   "source": [
    "filtered_df = logs_s_df[logs_s_df['user_id'].isin(selected_students)]\n",
    "del(logs_s_df)\n",
    "filtered_df.head()\n",
    "#filtered_df.shape #:(1049003, 5)"
   ]
  },
  {
   "cell_type": "code",
   "execution_count": 23,
   "id": "034a1271",
   "metadata": {},
   "outputs": [
    {
     "data": {
      "text/html": [
       "<div>\n",
       "<style scoped>\n",
       "    .dataframe tbody tr th:only-of-type {\n",
       "        vertical-align: middle;\n",
       "    }\n",
       "\n",
       "    .dataframe tbody tr th {\n",
       "        vertical-align: top;\n",
       "    }\n",
       "\n",
       "    .dataframe thead th {\n",
       "        text-align: right;\n",
       "    }\n",
       "</style>\n",
       "<table border=\"1\" class=\"dataframe\">\n",
       "  <thead>\n",
       "    <tr style=\"text-align: right;\">\n",
       "      <th></th>\n",
       "      <th>user_id</th>\n",
       "      <th>exercise</th>\n",
       "      <th>correct</th>\n",
       "      <th>time_done</th>\n",
       "      <th>problem_number</th>\n",
       "    </tr>\n",
       "  </thead>\n",
       "  <tbody>\n",
       "    <tr>\n",
       "      <th>0</th>\n",
       "      <td>9</td>\n",
       "      <td>representing_numbers</td>\n",
       "      <td>True</td>\n",
       "      <td>1403592558383180</td>\n",
       "      <td>1</td>\n",
       "    </tr>\n",
       "    <tr>\n",
       "      <th>1</th>\n",
       "      <td>9</td>\n",
       "      <td>representing_numbers</td>\n",
       "      <td>False</td>\n",
       "      <td>1403592603171810</td>\n",
       "      <td>2</td>\n",
       "    </tr>\n",
       "    <tr>\n",
       "      <th>2</th>\n",
       "      <td>9</td>\n",
       "      <td>representing_numbers</td>\n",
       "      <td>True</td>\n",
       "      <td>1403592649235970</td>\n",
       "      <td>3</td>\n",
       "    </tr>\n",
       "    <tr>\n",
       "      <th>3</th>\n",
       "      <td>9</td>\n",
       "      <td>representing_numbers</td>\n",
       "      <td>True</td>\n",
       "      <td>1403592661733850</td>\n",
       "      <td>4</td>\n",
       "    </tr>\n",
       "    <tr>\n",
       "      <th>4</th>\n",
       "      <td>9</td>\n",
       "      <td>representing_numbers</td>\n",
       "      <td>True</td>\n",
       "      <td>1403592669308810</td>\n",
       "      <td>5</td>\n",
       "    </tr>\n",
       "  </tbody>\n",
       "</table>\n",
       "</div>"
      ],
      "text/plain": [
       "   user_id              exercise  correct         time_done  problem_number\n",
       "0        9  representing_numbers     True  1403592558383180               1\n",
       "1        9  representing_numbers    False  1403592603171810               2\n",
       "2        9  representing_numbers     True  1403592649235970               3\n",
       "3        9  representing_numbers     True  1403592661733850               4\n",
       "4        9  representing_numbers     True  1403592669308810               5"
      ]
     },
     "execution_count": 23,
     "metadata": {},
     "output_type": "execute_result"
    }
   ],
   "source": [
    "# Group by' user_id' and sort by' time_done' within each group.\n",
    "filtered_df_sorted = filtered_df.groupby('user_id').apply(lambda x: x.sort_values('time_done')).reset_index(drop=True)\n",
    "filtered_df_sorted.head() #shape #：(337998, 5)"
   ]
  },
  {
   "cell_type": "code",
   "execution_count": 24,
   "id": "f7351648",
   "metadata": {},
   "outputs": [],
   "source": [
    "filtered_df_sorted['skill'] = filtered_df_sorted['exercise'].map(plm_SKname_dic)"
   ]
  },
  {
   "cell_type": "code",
   "execution_count": 25,
   "id": "5e1bba34",
   "metadata": {},
   "outputs": [
    {
     "data": {
      "text/html": [
       "<div>\n",
       "<style scoped>\n",
       "    .dataframe tbody tr th:only-of-type {\n",
       "        vertical-align: middle;\n",
       "    }\n",
       "\n",
       "    .dataframe tbody tr th {\n",
       "        vertical-align: top;\n",
       "    }\n",
       "\n",
       "    .dataframe thead th {\n",
       "        text-align: right;\n",
       "    }\n",
       "</style>\n",
       "<table border=\"1\" class=\"dataframe\">\n",
       "  <thead>\n",
       "    <tr style=\"text-align: right;\">\n",
       "      <th></th>\n",
       "      <th>user_id</th>\n",
       "      <th>exercise</th>\n",
       "      <th>correct</th>\n",
       "      <th>time_done</th>\n",
       "      <th>problem_number</th>\n",
       "      <th>skill</th>\n",
       "    </tr>\n",
       "  </thead>\n",
       "  <tbody>\n",
       "    <tr>\n",
       "      <th>0</th>\n",
       "      <td>9</td>\n",
       "      <td>representing_numbers</td>\n",
       "      <td>True</td>\n",
       "      <td>1403592558383180</td>\n",
       "      <td>1</td>\n",
       "      <td>addition-subtraction</td>\n",
       "    </tr>\n",
       "    <tr>\n",
       "      <th>1</th>\n",
       "      <td>9</td>\n",
       "      <td>representing_numbers</td>\n",
       "      <td>False</td>\n",
       "      <td>1403592603171810</td>\n",
       "      <td>2</td>\n",
       "      <td>addition-subtraction</td>\n",
       "    </tr>\n",
       "    <tr>\n",
       "      <th>2</th>\n",
       "      <td>9</td>\n",
       "      <td>representing_numbers</td>\n",
       "      <td>True</td>\n",
       "      <td>1403592649235970</td>\n",
       "      <td>3</td>\n",
       "      <td>addition-subtraction</td>\n",
       "    </tr>\n",
       "    <tr>\n",
       "      <th>3</th>\n",
       "      <td>9</td>\n",
       "      <td>representing_numbers</td>\n",
       "      <td>True</td>\n",
       "      <td>1403592661733850</td>\n",
       "      <td>4</td>\n",
       "      <td>addition-subtraction</td>\n",
       "    </tr>\n",
       "    <tr>\n",
       "      <th>4</th>\n",
       "      <td>9</td>\n",
       "      <td>representing_numbers</td>\n",
       "      <td>True</td>\n",
       "      <td>1403592669308810</td>\n",
       "      <td>5</td>\n",
       "      <td>addition-subtraction</td>\n",
       "    </tr>\n",
       "  </tbody>\n",
       "</table>\n",
       "</div>"
      ],
      "text/plain": [
       "   user_id              exercise  correct         time_done  problem_number  \\\n",
       "0        9  representing_numbers     True  1403592558383180               1   \n",
       "1        9  representing_numbers    False  1403592603171810               2   \n",
       "2        9  representing_numbers     True  1403592649235970               3   \n",
       "3        9  representing_numbers     True  1403592661733850               4   \n",
       "4        9  representing_numbers     True  1403592669308810               5   \n",
       "\n",
       "                  skill  \n",
       "0  addition-subtraction  \n",
       "1  addition-subtraction  \n",
       "2  addition-subtraction  \n",
       "3  addition-subtraction  \n",
       "4  addition-subtraction  "
      ]
     },
     "execution_count": 25,
     "metadata": {},
     "output_type": "execute_result"
    }
   ],
   "source": [
    "filtered_df_sorted.head(5)"
   ]
  },
  {
   "cell_type": "markdown",
   "id": "20b73331",
   "metadata": {},
   "source": [
    "# 3 Obtain all dic"
   ]
  },
  {
   "cell_type": "code",
   "execution_count": 26,
   "id": "a4770da0",
   "metadata": {},
   "outputs": [],
   "source": [
    "stu_list = filtered_df_sorted['user_id'].value_counts().index.tolist()\n",
    "#len(stu_list)#: 5000\n",
    "problem_list = filtered_df_sorted['exercise'].value_counts().index.tolist()\n",
    "#len(problem_list)#: 683\n",
    "kc_list = filtered_df_sorted['skill'].value_counts().index.tolist() \n",
    "#len(kc_list)#: 40"
   ]
  },
  {
   "cell_type": "code",
   "execution_count": 27,
   "id": "14b24f24",
   "metadata": {},
   "outputs": [],
   "source": [
    "stu_get_ID = {}\n",
    "plm_get_ID = {}\n",
    "kc_get_ID = {}\n",
    "\n",
    "stu_get_oriID = {}\n",
    "plm_get_NAME = {}\n",
    "kc_get_NAME = {}"
   ]
  },
  {
   "cell_type": "code",
   "execution_count": 28,
   "id": "dd2a9d14",
   "metadata": {},
   "outputs": [],
   "source": [
    "for index,value in enumerate(stu_list):\n",
    "    stu_get_ID[value] = index\n",
    "    stu_get_oriID[index] = value\n",
    "for index,value in enumerate(problem_list):\n",
    "    plm_get_ID[value] = index\n",
    "    plm_get_NAME[index] = value\n",
    "for index,value in enumerate(kc_list):\n",
    "    kc_get_ID[value] = index\n",
    "    kc_get_NAME[index] = value"
   ]
  },
  {
   "cell_type": "code",
   "execution_count": 29,
   "id": "46505b70",
   "metadata": {},
   "outputs": [],
   "source": [
    "with open('jun_stu_get_ID.json', 'w', encoding='utf-8') as f:\n",
    "    json.dump(stu_get_ID, f, ensure_ascii=False, indent=4)\n",
    "with open('jun_plm_get_ID.json', 'w', encoding='utf-8') as f:\n",
    "    json.dump(plm_get_ID, f, ensure_ascii=False, indent=4)\n",
    "with open('jun_kc_get_ID.json', 'w', encoding='utf-8') as f:\n",
    "    json.dump(kc_get_ID, f, ensure_ascii=False, indent=4)"
   ]
  },
  {
   "cell_type": "code",
   "execution_count": 31,
   "id": "943b980b",
   "metadata": {},
   "outputs": [],
   "source": [
    "# user_id   problem_id   skill_id   correct\n",
    "mapping_df = filtered_df_sorted.copy() \n",
    "mapping_df['user_id'] = filtered_df_sorted['user_id'].map(stu_get_ID)\n",
    "mapping_df['exercise'] = filtered_df_sorted['exercise'].map(plm_get_ID)\n",
    "mapping_df['skill'] = filtered_df_sorted['skill'].map(kc_get_ID)\n",
    "mapping_df['correct'] = filtered_df_sorted['correct'].astype(int)"
   ]
  },
  {
   "cell_type": "code",
   "execution_count": 32,
   "id": "3c85f801",
   "metadata": {},
   "outputs": [
    {
     "data": {
      "text/html": [
       "<div>\n",
       "<style scoped>\n",
       "    .dataframe tbody tr th:only-of-type {\n",
       "        vertical-align: middle;\n",
       "    }\n",
       "\n",
       "    .dataframe tbody tr th {\n",
       "        vertical-align: top;\n",
       "    }\n",
       "\n",
       "    .dataframe thead th {\n",
       "        text-align: right;\n",
       "    }\n",
       "</style>\n",
       "<table border=\"1\" class=\"dataframe\">\n",
       "  <thead>\n",
       "    <tr style=\"text-align: right;\">\n",
       "      <th></th>\n",
       "      <th>user_id</th>\n",
       "      <th>exercise</th>\n",
       "      <th>correct</th>\n",
       "      <th>time_done</th>\n",
       "      <th>problem_number</th>\n",
       "      <th>skill</th>\n",
       "    </tr>\n",
       "  </thead>\n",
       "  <tbody>\n",
       "    <tr>\n",
       "      <th>785646</th>\n",
       "      <td>0</td>\n",
       "      <td>38</td>\n",
       "      <td>0</td>\n",
       "      <td>1379484348679390</td>\n",
       "      <td>1</td>\n",
       "      <td>8</td>\n",
       "    </tr>\n",
       "    <tr>\n",
       "      <th>785647</th>\n",
       "      <td>0</td>\n",
       "      <td>146</td>\n",
       "      <td>1</td>\n",
       "      <td>1379484643393610</td>\n",
       "      <td>1</td>\n",
       "      <td>8</td>\n",
       "    </tr>\n",
       "    <tr>\n",
       "      <th>785648</th>\n",
       "      <td>0</td>\n",
       "      <td>146</td>\n",
       "      <td>0</td>\n",
       "      <td>1379484829683670</td>\n",
       "      <td>2</td>\n",
       "      <td>8</td>\n",
       "    </tr>\n",
       "    <tr>\n",
       "      <th>785649</th>\n",
       "      <td>0</td>\n",
       "      <td>239</td>\n",
       "      <td>0</td>\n",
       "      <td>1379641907911920</td>\n",
       "      <td>1</td>\n",
       "      <td>8</td>\n",
       "    </tr>\n",
       "    <tr>\n",
       "      <th>785650</th>\n",
       "      <td>0</td>\n",
       "      <td>239</td>\n",
       "      <td>1</td>\n",
       "      <td>1379641942981680</td>\n",
       "      <td>2</td>\n",
       "      <td>8</td>\n",
       "    </tr>\n",
       "    <tr>\n",
       "      <th>...</th>\n",
       "      <td>...</td>\n",
       "      <td>...</td>\n",
       "      <td>...</td>\n",
       "      <td>...</td>\n",
       "      <td>...</td>\n",
       "      <td>...</td>\n",
       "    </tr>\n",
       "    <tr>\n",
       "      <th>793511</th>\n",
       "      <td>0</td>\n",
       "      <td>142</td>\n",
       "      <td>1</td>\n",
       "      <td>1399985182808440</td>\n",
       "      <td>40</td>\n",
       "      <td>8</td>\n",
       "    </tr>\n",
       "    <tr>\n",
       "      <th>793512</th>\n",
       "      <td>0</td>\n",
       "      <td>142</td>\n",
       "      <td>1</td>\n",
       "      <td>1399985196715120</td>\n",
       "      <td>41</td>\n",
       "      <td>8</td>\n",
       "    </tr>\n",
       "    <tr>\n",
       "      <th>793513</th>\n",
       "      <td>0</td>\n",
       "      <td>142</td>\n",
       "      <td>0</td>\n",
       "      <td>1399985212310680</td>\n",
       "      <td>42</td>\n",
       "      <td>8</td>\n",
       "    </tr>\n",
       "    <tr>\n",
       "      <th>793514</th>\n",
       "      <td>0</td>\n",
       "      <td>142</td>\n",
       "      <td>1</td>\n",
       "      <td>1399985244099550</td>\n",
       "      <td>43</td>\n",
       "      <td>8</td>\n",
       "    </tr>\n",
       "    <tr>\n",
       "      <th>793515</th>\n",
       "      <td>0</td>\n",
       "      <td>142</td>\n",
       "      <td>1</td>\n",
       "      <td>1399985267179470</td>\n",
       "      <td>44</td>\n",
       "      <td>8</td>\n",
       "    </tr>\n",
       "  </tbody>\n",
       "</table>\n",
       "<p>7870 rows × 6 columns</p>\n",
       "</div>"
      ],
      "text/plain": [
       "        user_id  exercise  correct         time_done  problem_number  skill\n",
       "785646        0        38        0  1379484348679390               1      8\n",
       "785647        0       146        1  1379484643393610               1      8\n",
       "785648        0       146        0  1379484829683670               2      8\n",
       "785649        0       239        0  1379641907911920               1      8\n",
       "785650        0       239        1  1379641942981680               2      8\n",
       "...         ...       ...      ...               ...             ...    ...\n",
       "793511        0       142        1  1399985182808440              40      8\n",
       "793512        0       142        1  1399985196715120              41      8\n",
       "793513        0       142        0  1399985212310680              42      8\n",
       "793514        0       142        1  1399985244099550              43      8\n",
       "793515        0       142        1  1399985267179470              44      8\n",
       "\n",
       "[7870 rows x 6 columns]"
      ]
     },
     "execution_count": 32,
     "metadata": {},
     "output_type": "execute_result"
    }
   ],
   "source": [
    "mapping_df.loc[mapping_df['user_id'] == 0]"
   ]
  },
  {
   "cell_type": "markdown",
   "id": "1fb3c27e",
   "metadata": {},
   "source": [
    "# 4 Generate JSON file"
   ]
  },
  {
   "cell_type": "code",
   "execution_count": 33,
   "id": "38bd8af5",
   "metadata": {},
   "outputs": [],
   "source": [
    "problem_skill_group_dic = {}\n",
    "problem_list = mapping_df['exercise'].value_counts().index.tolist()\n",
    "for index, p_id in enumerate(problem_list):\n",
    "    p_float_list = mapping_df.loc[mapping_df['exercise'] == p_id]['skill'].value_counts().index.tolist()\n",
    "    p_int_list = list(map(int, p_float_list))\n",
    "    problem_skill_group_dic[p_id] = p_int_list\n",
    "def save_dict_to_txt(dictionary, filename):\n",
    "    with open(filename, 'w', encoding='utf-8') as file:\n",
    "        json.dump(dictionary, file, ensure_ascii=False, indent=4)\n",
    "# Save txt\n",
    "save_dict_to_txt(problem_skill_group_dic, 'junyi_q_kc_dic.txt')"
   ]
  },
  {
   "cell_type": "code",
   "execution_count": 30,
   "id": "efc97d6a",
   "metadata": {},
   "outputs": [],
   "source": [
    "# user_id   exercise   correct   time_done   problem_number   skill"
   ]
  },
  {
   "cell_type": "code",
   "execution_count": 31,
   "id": "d74910de",
   "metadata": {},
   "outputs": [],
   "source": [
    "#生成JSON文件\n",
    "initial_json_list = []\n",
    "Response_records_all_students = []\n",
    "\n",
    "for stu_id in stu_get_oriID:\n",
    "    df_1 = mapping_df.loc[mapping_df['user_id'] == stu_id]\n",
    "    logs_list = []\n",
    "    logs_num = len(df_1);\n",
    "    for index, row in df_1.iterrows():\n",
    "        p_id = row['exercise']\n",
    "        p_code = [row['skill']]\n",
    "        if len(p_code) >= 1:\n",
    "            logs_item = {\"exer_id\": p_id, \"score\": row['correct'], \"knowledge_code\": p_code}\n",
    "            logs_list.append(logs_item)\n",
    "    initial_json_item = {\n",
    "        \"stu_id\": stu_id,\n",
    "        \"log_num\": len(logs_list),\n",
    "        \"logs\":logs_list\n",
    "    }\n",
    "    Response_records_all_students.append(len(logs_list))\n",
    "    initial_json_list.append(initial_json_item)"
   ]
  },
  {
   "cell_type": "code",
   "execution_count": 32,
   "id": "02071d47",
   "metadata": {},
   "outputs": [
    {
     "name": "stdout",
     "output_type": "stream",
     "text": [
      "Response_records: 1049003\n",
      "Response_records_per_students: 209.8006\n"
     ]
    }
   ],
   "source": [
    "# Overview of student records\n",
    "Response_records = sum(Response_records_all_students)\n",
    "Response_records_per_students = Response_records / len(Response_records_all_students)\n",
    "print(\"Response_records:\", Response_records)\n",
    "print(\"Response_records_per_students:\", Response_records_per_students)"
   ]
  },
  {
   "cell_type": "code",
   "execution_count": 33,
   "id": "5ac77f84",
   "metadata": {},
   "outputs": [],
   "source": [
    "# Save JSON file \n",
    "def convert_int64_to_int(obj):\n",
    "    if isinstance(obj, np.int64):\n",
    "        return int(obj)\n",
    "    raise TypeError\n",
    "initial_json = json.dumps(initial_json_list, default=convert_int64_to_int, ensure_ascii=False, indent=4, separators=(',', ': '))\n",
    "filename = 'C:/Users/Lenovo/Desktop/Junyi5000_s15_p2_logs.json'\n",
    "with open(filename, 'w', encoding='utf-8') as file:\n",
    "    file.write(initial_json)"
   ]
  },
  {
   "cell_type": "markdown",
   "id": "e9b02acb",
   "metadata": {},
   "source": [
    "# 5 Generate knowledge graph"
   ]
  },
  {
   "cell_type": "markdown",
   "id": "c378e3b9",
   "metadata": {},
   "source": [
    "## 5-1 SentenceTransformer -> semantic similarity"
   ]
  },
  {
   "cell_type": "code",
   "execution_count": 34,
   "id": "7818c41b",
   "metadata": {},
   "outputs": [],
   "source": [
    "#plm_SKname_dic\n",
    "# stu_get_ID\n",
    "# plm_get_ID\n",
    "# kc_get_ID\n",
    "\n",
    "# stu_get_oriID\n",
    "# plm_get_NAME\n",
    "# kc_get_NAME"
   ]
  },
  {
   "cell_type": "code",
   "execution_count": 35,
   "id": "db7deea0",
   "metadata": {},
   "outputs": [],
   "source": [
    "model = SentenceTransformer('E:/[model]big_model/all-MiniLM-L6-v2')"
   ]
  },
  {
   "cell_type": "code",
   "execution_count": 36,
   "id": "c448d6cd",
   "metadata": {},
   "outputs": [],
   "source": [
    "# kcid-kc_tensor\n",
    "KCID_tensor_dic = {}\n",
    "for kcid in kc_get_NAME:\n",
    "    embedding = model.encode(kc_get_NAME[kcid], convert_to_tensor=True)\n",
    "    KCID_tensor_dic[kcid] = embedding"
   ]
  },
  {
   "cell_type": "code",
   "execution_count": 37,
   "id": "78281f89",
   "metadata": {},
   "outputs": [],
   "source": [
    "# Similarity matrix\n",
    "mx_size = len(kc_get_NAME)\n",
    "s_matrix = np.zeros((mx_size, mx_size))\n",
    "\n",
    "for kcid1 in KCID_tensor_dic:\n",
    "    t1 = KCID_tensor_dic[kcid1]\n",
    "    for kcid2 in KCID_tensor_dic:\n",
    "        if(kcid1 == kcid2):\n",
    "            s_matrix[kcid1][kcid2] = 0\n",
    "            continue\n",
    "        t2 = KCID_tensor_dic[kcid2]\n",
    "        s_matrix[kcid1][kcid2] = util.pytorch_cos_sim(t1, t2)"
   ]
  },
  {
   "cell_type": "code",
   "execution_count": 38,
   "id": "23891866",
   "metadata": {},
   "outputs": [
    {
     "data": {
      "text/plain": [
       "<Axes: >"
      ]
     },
     "execution_count": 38,
     "metadata": {},
     "output_type": "execute_result"
    },
    {
     "data": {
      "image/png": "[encoded data removed]",
      "text/plain": [
       "<Figure size 900x600 with 2 Axes>"
      ]
     },
     "metadata": {},
     "output_type": "display_data"
    }
   ],
   "source": [
    "# Heat map analysis\n",
    "plt.figure(dpi=150, figsize=(6, 4))\n",
    "sns.heatmap(\n",
    "    data=s_matrix,\n",
    "    cmap=sns.diverging_palette(255, 5, as_cmap=True),\n",
    ")\n",
    "#plt.savefig('skill_heatmap_before.png')"
   ]
  },
  {
   "cell_type": "code",
   "execution_count": 39,
   "id": "ab375602",
   "metadata": {},
   "outputs": [
    {
     "data": {
      "text/plain": [
       "248"
      ]
     },
     "execution_count": 39,
     "metadata": {},
     "output_type": "execute_result"
    }
   ],
   "source": [
    "# Generating similarity binary group\n",
    "s_triple_list = []\n",
    "for i in range(mx_size):\n",
    "    for j in range(mx_size):\n",
    "        if s_matrix[i][j] > 0.4:\n",
    "            triple_item = [i,j]\n",
    "            s_triple_list.append(triple_item)\n",
    "            triple_item = [j,i]\n",
    "            s_triple_list.append(triple_item)\n",
    "len(s_triple_list) #:248"
   ]
  },
  {
   "cell_type": "code",
   "execution_count": 40,
   "id": "dcc86fdf",
   "metadata": {},
   "outputs": [],
   "source": [
    "s_triple_df = pd.DataFrame(s_triple_list, columns=['Subject','Object'])"
   ]
  },
  {
   "cell_type": "markdown",
   "id": "44efc9f1",
   "metadata": {},
   "source": [
    "## Analysis of Co-occurrence of Knowledge Points"
   ]
  },
  {
   "cell_type": "code",
   "execution_count": 47,
   "id": "db4e9e85",
   "metadata": {},
   "outputs": [
    {
     "data": {
      "text/html": [
       "<div>\n",
       "<style scoped>\n",
       "    .dataframe tbody tr th:only-of-type {\n",
       "        vertical-align: middle;\n",
       "    }\n",
       "\n",
       "    .dataframe tbody tr th {\n",
       "        vertical-align: top;\n",
       "    }\n",
       "\n",
       "    .dataframe thead th {\n",
       "        text-align: right;\n",
       "    }\n",
       "</style>\n",
       "<table border=\"1\" class=\"dataframe\">\n",
       "  <thead>\n",
       "    <tr style=\"text-align: right;\">\n",
       "      <th></th>\n",
       "      <th>topic</th>\n",
       "      <th>area</th>\n",
       "    </tr>\n",
       "  </thead>\n",
       "  <tbody>\n",
       "    <tr>\n",
       "      <th>0</th>\n",
       "      <td>conic-sections</td>\n",
       "      <td>algebra</td>\n",
       "    </tr>\n",
       "    <tr>\n",
       "      <th>1</th>\n",
       "      <td>area-perimeter-and-volume</td>\n",
       "      <td>geometry</td>\n",
       "    </tr>\n",
       "    <tr>\n",
       "      <th>2</th>\n",
       "      <td>circle-properties</td>\n",
       "      <td>geometry</td>\n",
       "    </tr>\n",
       "    <tr>\n",
       "      <th>3</th>\n",
       "      <td>quadtratics</td>\n",
       "      <td>algebra</td>\n",
       "    </tr>\n",
       "    <tr>\n",
       "      <th>4</th>\n",
       "      <td>algebra-functions</td>\n",
       "      <td>algebra</td>\n",
       "    </tr>\n",
       "  </tbody>\n",
       "</table>\n",
       "</div>"
      ],
      "text/plain": [
       "                       topic      area\n",
       "0             conic-sections   algebra\n",
       "1  area-perimeter-and-volume  geometry\n",
       "2          circle-properties  geometry\n",
       "3                quadtratics   algebra\n",
       "4          algebra-functions   algebra"
      ]
     },
     "execution_count": 47,
     "metadata": {},
     "output_type": "execute_result"
    }
   ],
   "source": [
    "select_columns = ['topic', 'area']\n",
    "kc_area_df = plm_s_df[select_columns]\n",
    "kc_area_df = kc_area_df.drop_duplicates().reset_index(drop=True)\n",
    "kc_area_df.head()\n",
    "#kc_area_df.shape #:(59, 2)\n",
    "# len(area) : 9"
   ]
  },
  {
   "cell_type": "code",
   "execution_count": 52,
   "id": "bf2116a2",
   "metadata": {},
   "outputs": [],
   "source": [
    "# SKname_AREA_dic\n",
    "SKname_AREA_dic = kc_area_df.set_index('topic')['area'].to_dict()\n",
    "#len(SKname_AREA_dic) #:59"
   ]
  },
  {
   "cell_type": "code",
   "execution_count": 56,
   "id": "6b155d20",
   "metadata": {},
   "outputs": [
    {
     "data": {
      "text/plain": [
       "40"
      ]
     },
     "execution_count": 56,
     "metadata": {},
     "output_type": "execute_result"
    }
   ],
   "source": [
    "NOW_SKname_AREA_dic = {}\n",
    "for now_kc in kc_list:\n",
    "    NOW_SKname_AREA_dic[now_kc] = SKname_AREA_dic[now_kc]\n",
    "#len(NOW_SKname_AREA_dic) #:40"
   ]
  },
  {
   "cell_type": "code",
   "execution_count": 60,
   "id": "66ff4f5f",
   "metadata": {},
   "outputs": [],
   "source": [
    "coo_dict = {}\n",
    "for key, value in NOW_SKname_AREA_dic.items():\n",
    "    if value not in coo_dict:\n",
    "        coo_dict[value] = []\n",
    "    coo_dict[value].append(key)\n",
    "    \n",
    "coo_list = list(coo_dict.values())\n",
    "#len(coo_list) #:9"
   ]
  },
  {
   "cell_type": "code",
   "execution_count": 67,
   "id": "d023f4b4",
   "metadata": {},
   "outputs": [
    {
     "data": {
      "text/plain": [
       "9"
      ]
     },
     "execution_count": 67,
     "metadata": {},
     "output_type": "execute_result"
    }
   ],
   "source": [
    "skill_id_coo_list = []\n",
    "for skill_group in coo_list:\n",
    "    skill_id_group = [kc_get_ID[skill_name] for skill_name in skill_group]\n",
    "    skill_id_coo_list.append(skill_id_group)\n",
    "#len(skill_id_coo_list) #:9"
   ]
  },
  {
   "cell_type": "code",
   "execution_count": 70,
   "id": "cffe88b3",
   "metadata": {},
   "outputs": [],
   "source": [
    "# Co-occurrence matrix\n",
    "mx_size = len(kc_get_NAME)\n",
    "coo_matrix = np.zeros((mx_size, mx_size))\n",
    "for r_p_group in skill_id_coo_list:\n",
    "    for i in range(0,len(r_p_group)):\n",
    "        for j in range(i+1,len(r_p_group)):\n",
    "            coo_matrix[r_p_group[i],r_p_group[j]] += 1;\n",
    "            coo_matrix[r_p_group[j],r_p_group[i]] += 1;"
   ]
  },
  {
   "cell_type": "code",
   "execution_count": 71,
   "id": "a9f10bac",
   "metadata": {
    "collapsed": true
   },
   "outputs": [
    {
     "data": {
      "text/plain": [
       "<Axes: >"
      ]
     },
     "execution_count": 71,
     "metadata": {},
     "output_type": "execute_result"
    },
    {
     "data": {
      "image/png": "[encoded data removed]",
      "text/plain": [
       "<Figure size 900x600 with 2 Axes>"
      ]
     },
     "metadata": {},
     "output_type": "display_data"
    }
   ],
   "source": [
    "# Heat map analysis\n",
    "plt.figure(dpi=150, figsize=(6, 4))\n",
    "sns.heatmap(\n",
    "    data=coo_matrix,\n",
    "    cmap=sns.diverging_palette(255, 5, as_cmap=True),\n",
    ")"
   ]
  },
  {
   "cell_type": "code",
   "execution_count": 72,
   "id": "d90bb0e4",
   "metadata": {},
   "outputs": [
    {
     "data": {
      "text/plain": [
       "636"
      ]
     },
     "execution_count": 72,
     "metadata": {},
     "output_type": "execute_result"
    }
   ],
   "source": [
    "# Generating binary group\n",
    "m_triple_list = []\n",
    "for i in range(mx_size):\n",
    "    for j in range(mx_size):\n",
    "        if coo_matrix[i][j] > 0:\n",
    "            triple_item = [i,j]\n",
    "            m_triple_list.append(triple_item)\n",
    "            triple_item = [j,i]\n",
    "            m_triple_list.append(triple_item)\n",
    "len(m_triple_list) #:636"
   ]
  },
  {
   "cell_type": "code",
   "execution_count": 73,
   "id": "9703c614",
   "metadata": {},
   "outputs": [],
   "source": [
    "# Generating binary group\n",
    "m_triple_df = pd.DataFrame(m_triple_list, columns=['Subject','Object'])"
   ]
  },
  {
   "cell_type": "markdown",
   "id": "b5aa3a05",
   "metadata": {},
   "source": [
    "## 5-3 Knowledge graph file"
   ]
  },
  {
   "cell_type": "code",
   "execution_count": 74,
   "id": "843a5215",
   "metadata": {},
   "outputs": [],
   "source": [
    "# s_triple_df\n",
    "# m_triple_df\n",
    "# 'Subject','Object'"
   ]
  },
  {
   "cell_type": "code",
   "execution_count": 75,
   "id": "75659f8e",
   "metadata": {},
   "outputs": [
    {
     "data": {
      "text/plain": [
       "(124, 2)"
      ]
     },
     "execution_count": 75,
     "metadata": {},
     "output_type": "execute_result"
    }
   ],
   "source": [
    "kg_df = pd.concat([s_triple_df, s_triple_df], ignore_index=True)\n",
    "kg_df = kg_df.drop_duplicates()\n",
    "kg_df.head(3)\n",
    "#kg_df.shape #:(124, 2)"
   ]
  },
  {
   "cell_type": "code",
   "execution_count": 76,
   "id": "03d6bcd8",
   "metadata": {},
   "outputs": [],
   "source": [
    "# Save\n",
    "kg_df.to_csv('C:/Users/Lenovo/Desktop/Junyi5000_s15_p2_graph.txt', sep='\\t', index=False, header=False) #[change to your own path]"
   ]
  }
 ],
 "metadata": {
  "kernelspec": {
   "display_name": "Python 3 (ipykernel)",
   "language": "python",
   "name": "python3"
  },
  "language_info": {
   "codemirror_mode": {
    "name": "ipython",
    "version": 3
   },
   "file_extension": ".py",
   "mimetype": "text/x-python",
   "name": "python",
   "nbconvert_exporter": "python",
   "pygments_lexer": "ipython3",
   "version": "3.8.17"
  }
 },
 "nbformat": 4,
 "nbformat_minor": 5
}
